{
 "cells": [
  {
   "cell_type": "code",
   "execution_count": 4,
   "metadata": {},
   "outputs": [],
   "source": [
    "import pandas as pd\n",
    "import matplotlib.pyplot as plt\n",
    "\n",
    "%matplotlib inline"
   ]
  },
  {
   "cell_type": "code",
   "execution_count": 2,
   "metadata": {},
   "outputs": [],
   "source": [
    "df = pd.read_csv('ted.csv')"
   ]
  },
  {
   "cell_type": "code",
   "execution_count": 3,
   "metadata": {},
   "outputs": [
    {
     "name": "stdout",
     "output_type": "stream",
     "text": [
      "<class 'pandas.core.frame.DataFrame'>\n",
      "RangeIndex: 2550 entries, 0 to 2549\n",
      "Data columns (total 17 columns):\n",
      " #   Column              Non-Null Count  Dtype \n",
      "---  ------              --------------  ----- \n",
      " 0   comments            2550 non-null   int64 \n",
      " 1   description         2550 non-null   object\n",
      " 2   duration            2550 non-null   int64 \n",
      " 3   event               2550 non-null   object\n",
      " 4   film_date           2550 non-null   int64 \n",
      " 5   languages           2550 non-null   int64 \n",
      " 6   main_speaker        2550 non-null   object\n",
      " 7   name                2550 non-null   object\n",
      " 8   num_speaker         2550 non-null   int64 \n",
      " 9   published_date      2550 non-null   int64 \n",
      " 10  ratings             2550 non-null   object\n",
      " 11  related_talks       2550 non-null   object\n",
      " 12  speaker_occupation  2544 non-null   object\n",
      " 13  tags                2550 non-null   object\n",
      " 14  title               2550 non-null   object\n",
      " 15  url                 2550 non-null   object\n",
      " 16  views               2550 non-null   int64 \n",
      "dtypes: int64(7), object(10)\n",
      "memory usage: 338.8+ KB\n"
     ]
    }
   ],
   "source": [
    "df.info()"
   ]
  },
  {
   "cell_type": "code",
   "execution_count": 5,
   "metadata": {},
   "outputs": [
    {
     "data": {
      "text/html": [
       "<div>\n",
       "<style scoped>\n",
       "    .dataframe tbody tr th:only-of-type {\n",
       "        vertical-align: middle;\n",
       "    }\n",
       "\n",
       "    .dataframe tbody tr th {\n",
       "        vertical-align: top;\n",
       "    }\n",
       "\n",
       "    .dataframe thead th {\n",
       "        text-align: right;\n",
       "    }\n",
       "</style>\n",
       "<table border=\"1\" class=\"dataframe\">\n",
       "  <thead>\n",
       "    <tr style=\"text-align: right;\">\n",
       "      <th></th>\n",
       "      <th>comments</th>\n",
       "      <th>description</th>\n",
       "      <th>duration</th>\n",
       "      <th>event</th>\n",
       "      <th>film_date</th>\n",
       "      <th>languages</th>\n",
       "      <th>main_speaker</th>\n",
       "      <th>name</th>\n",
       "      <th>num_speaker</th>\n",
       "      <th>published_date</th>\n",
       "      <th>ratings</th>\n",
       "      <th>related_talks</th>\n",
       "      <th>speaker_occupation</th>\n",
       "      <th>tags</th>\n",
       "      <th>title</th>\n",
       "      <th>url</th>\n",
       "      <th>views</th>\n",
       "    </tr>\n",
       "  </thead>\n",
       "  <tbody>\n",
       "    <tr>\n",
       "      <th>0</th>\n",
       "      <td>4553</td>\n",
       "      <td>Sir Ken Robinson makes an entertaining and pro...</td>\n",
       "      <td>1164</td>\n",
       "      <td>TED2006</td>\n",
       "      <td>1140825600</td>\n",
       "      <td>60</td>\n",
       "      <td>Ken Robinson</td>\n",
       "      <td>Ken Robinson: Do schools kill creativity?</td>\n",
       "      <td>1</td>\n",
       "      <td>1151367060</td>\n",
       "      <td>[{'id': 7, 'name': 'Funny', 'count': 19645}, {...</td>\n",
       "      <td>[{'id': 865, 'hero': 'https://pe.tedcdn.com/im...</td>\n",
       "      <td>Author/educator</td>\n",
       "      <td>['children', 'creativity', 'culture', 'dance',...</td>\n",
       "      <td>Do schools kill creativity?</td>\n",
       "      <td>https://www.ted.com/talks/ken_robinson_says_sc...</td>\n",
       "      <td>47227110</td>\n",
       "    </tr>\n",
       "    <tr>\n",
       "      <th>1</th>\n",
       "      <td>265</td>\n",
       "      <td>With the same humor and humanity he exuded in ...</td>\n",
       "      <td>977</td>\n",
       "      <td>TED2006</td>\n",
       "      <td>1140825600</td>\n",
       "      <td>43</td>\n",
       "      <td>Al Gore</td>\n",
       "      <td>Al Gore: Averting the climate crisis</td>\n",
       "      <td>1</td>\n",
       "      <td>1151367060</td>\n",
       "      <td>[{'id': 7, 'name': 'Funny', 'count': 544}, {'i...</td>\n",
       "      <td>[{'id': 243, 'hero': 'https://pe.tedcdn.com/im...</td>\n",
       "      <td>Climate advocate</td>\n",
       "      <td>['alternative energy', 'cars', 'climate change...</td>\n",
       "      <td>Averting the climate crisis</td>\n",
       "      <td>https://www.ted.com/talks/al_gore_on_averting_...</td>\n",
       "      <td>3200520</td>\n",
       "    </tr>\n",
       "    <tr>\n",
       "      <th>2</th>\n",
       "      <td>124</td>\n",
       "      <td>New York Times columnist David Pogue takes aim...</td>\n",
       "      <td>1286</td>\n",
       "      <td>TED2006</td>\n",
       "      <td>1140739200</td>\n",
       "      <td>26</td>\n",
       "      <td>David Pogue</td>\n",
       "      <td>David Pogue: Simplicity sells</td>\n",
       "      <td>1</td>\n",
       "      <td>1151367060</td>\n",
       "      <td>[{'id': 7, 'name': 'Funny', 'count': 964}, {'i...</td>\n",
       "      <td>[{'id': 1725, 'hero': 'https://pe.tedcdn.com/i...</td>\n",
       "      <td>Technology columnist</td>\n",
       "      <td>['computers', 'entertainment', 'interface desi...</td>\n",
       "      <td>Simplicity sells</td>\n",
       "      <td>https://www.ted.com/talks/david_pogue_says_sim...</td>\n",
       "      <td>1636292</td>\n",
       "    </tr>\n",
       "    <tr>\n",
       "      <th>3</th>\n",
       "      <td>200</td>\n",
       "      <td>In an emotionally charged talk, MacArthur-winn...</td>\n",
       "      <td>1116</td>\n",
       "      <td>TED2006</td>\n",
       "      <td>1140912000</td>\n",
       "      <td>35</td>\n",
       "      <td>Majora Carter</td>\n",
       "      <td>Majora Carter: Greening the ghetto</td>\n",
       "      <td>1</td>\n",
       "      <td>1151367060</td>\n",
       "      <td>[{'id': 3, 'name': 'Courageous', 'count': 760}...</td>\n",
       "      <td>[{'id': 1041, 'hero': 'https://pe.tedcdn.com/i...</td>\n",
       "      <td>Activist for environmental justice</td>\n",
       "      <td>['MacArthur grant', 'activism', 'business', 'c...</td>\n",
       "      <td>Greening the ghetto</td>\n",
       "      <td>https://www.ted.com/talks/majora_carter_s_tale...</td>\n",
       "      <td>1697550</td>\n",
       "    </tr>\n",
       "    <tr>\n",
       "      <th>4</th>\n",
       "      <td>593</td>\n",
       "      <td>You've never seen data presented like this. Wi...</td>\n",
       "      <td>1190</td>\n",
       "      <td>TED2006</td>\n",
       "      <td>1140566400</td>\n",
       "      <td>48</td>\n",
       "      <td>Hans Rosling</td>\n",
       "      <td>Hans Rosling: The best stats you've ever seen</td>\n",
       "      <td>1</td>\n",
       "      <td>1151440680</td>\n",
       "      <td>[{'id': 9, 'name': 'Ingenious', 'count': 3202}...</td>\n",
       "      <td>[{'id': 2056, 'hero': 'https://pe.tedcdn.com/i...</td>\n",
       "      <td>Global health expert; data visionary</td>\n",
       "      <td>['Africa', 'Asia', 'Google', 'demo', 'economic...</td>\n",
       "      <td>The best stats you've ever seen</td>\n",
       "      <td>https://www.ted.com/talks/hans_rosling_shows_t...</td>\n",
       "      <td>12005869</td>\n",
       "    </tr>\n",
       "  </tbody>\n",
       "</table>\n",
       "</div>"
      ],
      "text/plain": [
       "   comments                                        description  duration  \\\n",
       "0      4553  Sir Ken Robinson makes an entertaining and pro...      1164   \n",
       "1       265  With the same humor and humanity he exuded in ...       977   \n",
       "2       124  New York Times columnist David Pogue takes aim...      1286   \n",
       "3       200  In an emotionally charged talk, MacArthur-winn...      1116   \n",
       "4       593  You've never seen data presented like this. Wi...      1190   \n",
       "\n",
       "     event   film_date  languages   main_speaker  \\\n",
       "0  TED2006  1140825600         60   Ken Robinson   \n",
       "1  TED2006  1140825600         43        Al Gore   \n",
       "2  TED2006  1140739200         26    David Pogue   \n",
       "3  TED2006  1140912000         35  Majora Carter   \n",
       "4  TED2006  1140566400         48   Hans Rosling   \n",
       "\n",
       "                                            name  num_speaker  published_date  \\\n",
       "0      Ken Robinson: Do schools kill creativity?            1      1151367060   \n",
       "1           Al Gore: Averting the climate crisis            1      1151367060   \n",
       "2                  David Pogue: Simplicity sells            1      1151367060   \n",
       "3             Majora Carter: Greening the ghetto            1      1151367060   \n",
       "4  Hans Rosling: The best stats you've ever seen            1      1151440680   \n",
       "\n",
       "                                             ratings  \\\n",
       "0  [{'id': 7, 'name': 'Funny', 'count': 19645}, {...   \n",
       "1  [{'id': 7, 'name': 'Funny', 'count': 544}, {'i...   \n",
       "2  [{'id': 7, 'name': 'Funny', 'count': 964}, {'i...   \n",
       "3  [{'id': 3, 'name': 'Courageous', 'count': 760}...   \n",
       "4  [{'id': 9, 'name': 'Ingenious', 'count': 3202}...   \n",
       "\n",
       "                                       related_talks  \\\n",
       "0  [{'id': 865, 'hero': 'https://pe.tedcdn.com/im...   \n",
       "1  [{'id': 243, 'hero': 'https://pe.tedcdn.com/im...   \n",
       "2  [{'id': 1725, 'hero': 'https://pe.tedcdn.com/i...   \n",
       "3  [{'id': 1041, 'hero': 'https://pe.tedcdn.com/i...   \n",
       "4  [{'id': 2056, 'hero': 'https://pe.tedcdn.com/i...   \n",
       "\n",
       "                     speaker_occupation  \\\n",
       "0                       Author/educator   \n",
       "1                      Climate advocate   \n",
       "2                  Technology columnist   \n",
       "3    Activist for environmental justice   \n",
       "4  Global health expert; data visionary   \n",
       "\n",
       "                                                tags  \\\n",
       "0  ['children', 'creativity', 'culture', 'dance',...   \n",
       "1  ['alternative energy', 'cars', 'climate change...   \n",
       "2  ['computers', 'entertainment', 'interface desi...   \n",
       "3  ['MacArthur grant', 'activism', 'business', 'c...   \n",
       "4  ['Africa', 'Asia', 'Google', 'demo', 'economic...   \n",
       "\n",
       "                             title  \\\n",
       "0      Do schools kill creativity?   \n",
       "1      Averting the climate crisis   \n",
       "2                 Simplicity sells   \n",
       "3              Greening the ghetto   \n",
       "4  The best stats you've ever seen   \n",
       "\n",
       "                                                 url     views  \n",
       "0  https://www.ted.com/talks/ken_robinson_says_sc...  47227110  \n",
       "1  https://www.ted.com/talks/al_gore_on_averting_...   3200520  \n",
       "2  https://www.ted.com/talks/david_pogue_says_sim...   1636292  \n",
       "3  https://www.ted.com/talks/majora_carter_s_tale...   1697550  \n",
       "4  https://www.ted.com/talks/hans_rosling_shows_t...  12005869  "
      ]
     },
     "execution_count": 5,
     "metadata": {},
     "output_type": "execute_result"
    }
   ],
   "source": [
    "df.head()"
   ]
  },
  {
   "cell_type": "code",
   "execution_count": 7,
   "metadata": {},
   "outputs": [
    {
     "data": {
      "text/plain": [
       "comments              0\n",
       "description           0\n",
       "duration              0\n",
       "event                 0\n",
       "film_date             0\n",
       "languages             0\n",
       "main_speaker          0\n",
       "name                  0\n",
       "num_speaker           0\n",
       "published_date        0\n",
       "ratings               0\n",
       "related_talks         0\n",
       "speaker_occupation    6\n",
       "tags                  0\n",
       "title                 0\n",
       "url                   0\n",
       "views                 0\n",
       "dtype: int64"
      ]
     },
     "execution_count": 7,
     "metadata": {},
     "output_type": "execute_result"
    }
   ],
   "source": [
    "df.isna().sum()"
   ]
  },
  {
   "cell_type": "markdown",
   "metadata": {},
   "source": [
    "## 1. Which talks provoke the most online discussion?"
   ]
  },
  {
   "cell_type": "code",
   "execution_count": 11,
   "metadata": {},
   "outputs": [
    {
     "data": {
      "text/plain": [
       "96     6404\n",
       "0      4553\n",
       "644    3356\n",
       "Name: comments, dtype: int64"
      ]
     },
     "execution_count": 11,
     "metadata": {},
     "output_type": "execute_result"
    }
   ],
   "source": [
    "df.comments.sort_values(ascending=False)[:3]"
   ]
  },
  {
   "cell_type": "code",
   "execution_count": 12,
   "metadata": {},
   "outputs": [
    {
     "data": {
      "text/html": [
       "<div>\n",
       "<style scoped>\n",
       "    .dataframe tbody tr th:only-of-type {\n",
       "        vertical-align: middle;\n",
       "    }\n",
       "\n",
       "    .dataframe tbody tr th {\n",
       "        vertical-align: top;\n",
       "    }\n",
       "\n",
       "    .dataframe thead th {\n",
       "        text-align: right;\n",
       "    }\n",
       "</style>\n",
       "<table border=\"1\" class=\"dataframe\">\n",
       "  <thead>\n",
       "    <tr style=\"text-align: right;\">\n",
       "      <th></th>\n",
       "      <th>comments</th>\n",
       "      <th>description</th>\n",
       "      <th>duration</th>\n",
       "      <th>event</th>\n",
       "      <th>film_date</th>\n",
       "      <th>languages</th>\n",
       "      <th>main_speaker</th>\n",
       "      <th>name</th>\n",
       "      <th>num_speaker</th>\n",
       "      <th>published_date</th>\n",
       "      <th>ratings</th>\n",
       "      <th>related_talks</th>\n",
       "      <th>speaker_occupation</th>\n",
       "      <th>tags</th>\n",
       "      <th>title</th>\n",
       "      <th>url</th>\n",
       "      <th>views</th>\n",
       "    </tr>\n",
       "  </thead>\n",
       "  <tbody>\n",
       "    <tr>\n",
       "      <th>96</th>\n",
       "      <td>6404</td>\n",
       "      <td>Richard Dawkins urges all atheists to openly s...</td>\n",
       "      <td>1750</td>\n",
       "      <td>TED2002</td>\n",
       "      <td>1012608000</td>\n",
       "      <td>42</td>\n",
       "      <td>Richard Dawkins</td>\n",
       "      <td>Richard Dawkins: Militant atheism</td>\n",
       "      <td>1</td>\n",
       "      <td>1176689220</td>\n",
       "      <td>[{'id': 3, 'name': 'Courageous', 'count': 3236...</td>\n",
       "      <td>[{'id': 86, 'hero': 'https://pe.tedcdn.com/ima...</td>\n",
       "      <td>Evolutionary biologist</td>\n",
       "      <td>['God', 'atheism', 'culture', 'religion', 'sci...</td>\n",
       "      <td>Militant atheism</td>\n",
       "      <td>https://www.ted.com/talks/richard_dawkins_on_m...</td>\n",
       "      <td>4374792</td>\n",
       "    </tr>\n",
       "    <tr>\n",
       "      <th>0</th>\n",
       "      <td>4553</td>\n",
       "      <td>Sir Ken Robinson makes an entertaining and pro...</td>\n",
       "      <td>1164</td>\n",
       "      <td>TED2006</td>\n",
       "      <td>1140825600</td>\n",
       "      <td>60</td>\n",
       "      <td>Ken Robinson</td>\n",
       "      <td>Ken Robinson: Do schools kill creativity?</td>\n",
       "      <td>1</td>\n",
       "      <td>1151367060</td>\n",
       "      <td>[{'id': 7, 'name': 'Funny', 'count': 19645}, {...</td>\n",
       "      <td>[{'id': 865, 'hero': 'https://pe.tedcdn.com/im...</td>\n",
       "      <td>Author/educator</td>\n",
       "      <td>['children', 'creativity', 'culture', 'dance',...</td>\n",
       "      <td>Do schools kill creativity?</td>\n",
       "      <td>https://www.ted.com/talks/ken_robinson_says_sc...</td>\n",
       "      <td>47227110</td>\n",
       "    </tr>\n",
       "    <tr>\n",
       "      <th>644</th>\n",
       "      <td>3356</td>\n",
       "      <td>Questions of good and evil, right and wrong ar...</td>\n",
       "      <td>1386</td>\n",
       "      <td>TED2010</td>\n",
       "      <td>1265846400</td>\n",
       "      <td>39</td>\n",
       "      <td>Sam Harris</td>\n",
       "      <td>Sam Harris: Science can answer moral questions</td>\n",
       "      <td>1</td>\n",
       "      <td>1269249180</td>\n",
       "      <td>[{'id': 8, 'name': 'Informative', 'count': 923...</td>\n",
       "      <td>[{'id': 666, 'hero': 'https://pe.tedcdn.com/im...</td>\n",
       "      <td>Neuroscientist, philosopher</td>\n",
       "      <td>['culture', 'evolutionary psychology', 'global...</td>\n",
       "      <td>Science can answer moral questions</td>\n",
       "      <td>https://www.ted.com/talks/sam_harris_science_c...</td>\n",
       "      <td>3433437</td>\n",
       "    </tr>\n",
       "  </tbody>\n",
       "</table>\n",
       "</div>"
      ],
      "text/plain": [
       "     comments                                        description  duration  \\\n",
       "96       6404  Richard Dawkins urges all atheists to openly s...      1750   \n",
       "0        4553  Sir Ken Robinson makes an entertaining and pro...      1164   \n",
       "644      3356  Questions of good and evil, right and wrong ar...      1386   \n",
       "\n",
       "       event   film_date  languages     main_speaker  \\\n",
       "96   TED2002  1012608000         42  Richard Dawkins   \n",
       "0    TED2006  1140825600         60     Ken Robinson   \n",
       "644  TED2010  1265846400         39       Sam Harris   \n",
       "\n",
       "                                               name  num_speaker  \\\n",
       "96                Richard Dawkins: Militant atheism            1   \n",
       "0         Ken Robinson: Do schools kill creativity?            1   \n",
       "644  Sam Harris: Science can answer moral questions            1   \n",
       "\n",
       "     published_date                                            ratings  \\\n",
       "96       1176689220  [{'id': 3, 'name': 'Courageous', 'count': 3236...   \n",
       "0        1151367060  [{'id': 7, 'name': 'Funny', 'count': 19645}, {...   \n",
       "644      1269249180  [{'id': 8, 'name': 'Informative', 'count': 923...   \n",
       "\n",
       "                                         related_talks  \\\n",
       "96   [{'id': 86, 'hero': 'https://pe.tedcdn.com/ima...   \n",
       "0    [{'id': 865, 'hero': 'https://pe.tedcdn.com/im...   \n",
       "644  [{'id': 666, 'hero': 'https://pe.tedcdn.com/im...   \n",
       "\n",
       "              speaker_occupation  \\\n",
       "96        Evolutionary biologist   \n",
       "0                Author/educator   \n",
       "644  Neuroscientist, philosopher   \n",
       "\n",
       "                                                  tags  \\\n",
       "96   ['God', 'atheism', 'culture', 'religion', 'sci...   \n",
       "0    ['children', 'creativity', 'culture', 'dance',...   \n",
       "644  ['culture', 'evolutionary psychology', 'global...   \n",
       "\n",
       "                                  title  \\\n",
       "96                     Militant atheism   \n",
       "0           Do schools kill creativity?   \n",
       "644  Science can answer moral questions   \n",
       "\n",
       "                                                   url     views  \n",
       "96   https://www.ted.com/talks/richard_dawkins_on_m...   4374792  \n",
       "0    https://www.ted.com/talks/ken_robinson_says_sc...  47227110  \n",
       "644  https://www.ted.com/talks/sam_harris_science_c...   3433437  "
      ]
     },
     "execution_count": 12,
     "metadata": {},
     "output_type": "execute_result"
    }
   ],
   "source": [
    "df.iloc[[96,0,644]]"
   ]
  },
  {
   "cell_type": "code",
   "execution_count": 13,
   "metadata": {},
   "outputs": [],
   "source": [
    "# Normalize comments by views in an attempt to handle the bias attributed to how long the video has been posted online.\n",
    "df['comments_per_view'] = df.comments / df.views"
   ]
  },
  {
   "cell_type": "code",
   "execution_count": 16,
   "metadata": {},
   "outputs": [
    {
     "data": {
      "text/html": [
       "<div>\n",
       "<style scoped>\n",
       "    .dataframe tbody tr th:only-of-type {\n",
       "        vertical-align: middle;\n",
       "    }\n",
       "\n",
       "    .dataframe tbody tr th {\n",
       "        vertical-align: top;\n",
       "    }\n",
       "\n",
       "    .dataframe thead th {\n",
       "        text-align: right;\n",
       "    }\n",
       "</style>\n",
       "<table border=\"1\" class=\"dataframe\">\n",
       "  <thead>\n",
       "    <tr style=\"text-align: right;\">\n",
       "      <th></th>\n",
       "      <th>comments</th>\n",
       "      <th>description</th>\n",
       "      <th>duration</th>\n",
       "      <th>event</th>\n",
       "      <th>film_date</th>\n",
       "      <th>languages</th>\n",
       "      <th>main_speaker</th>\n",
       "      <th>name</th>\n",
       "      <th>num_speaker</th>\n",
       "      <th>published_date</th>\n",
       "      <th>ratings</th>\n",
       "      <th>related_talks</th>\n",
       "      <th>speaker_occupation</th>\n",
       "      <th>tags</th>\n",
       "      <th>title</th>\n",
       "      <th>url</th>\n",
       "      <th>views</th>\n",
       "      <th>comments_per_view</th>\n",
       "    </tr>\n",
       "  </thead>\n",
       "  <tbody>\n",
       "    <tr>\n",
       "      <th>96</th>\n",
       "      <td>6404</td>\n",
       "      <td>Richard Dawkins urges all atheists to openly s...</td>\n",
       "      <td>1750</td>\n",
       "      <td>TED2002</td>\n",
       "      <td>1012608000</td>\n",
       "      <td>42</td>\n",
       "      <td>Richard Dawkins</td>\n",
       "      <td>Richard Dawkins: Militant atheism</td>\n",
       "      <td>1</td>\n",
       "      <td>1176689220</td>\n",
       "      <td>[{'id': 3, 'name': 'Courageous', 'count': 3236...</td>\n",
       "      <td>[{'id': 86, 'hero': 'https://pe.tedcdn.com/ima...</td>\n",
       "      <td>Evolutionary biologist</td>\n",
       "      <td>['God', 'atheism', 'culture', 'religion', 'sci...</td>\n",
       "      <td>Militant atheism</td>\n",
       "      <td>https://www.ted.com/talks/richard_dawkins_on_m...</td>\n",
       "      <td>4374792</td>\n",
       "      <td>0.001464</td>\n",
       "    </tr>\n",
       "    <tr>\n",
       "      <th>803</th>\n",
       "      <td>834</td>\n",
       "      <td>David Bismark demos a new system for voting th...</td>\n",
       "      <td>422</td>\n",
       "      <td>TEDGlobal 2010</td>\n",
       "      <td>1279065600</td>\n",
       "      <td>36</td>\n",
       "      <td>David Bismark</td>\n",
       "      <td>David Bismark: E-voting without fraud</td>\n",
       "      <td>1</td>\n",
       "      <td>1288685640</td>\n",
       "      <td>[{'id': 25, 'name': 'OK', 'count': 111}, {'id'...</td>\n",
       "      <td>[{'id': 803, 'hero': 'https://pe.tedcdn.com/im...</td>\n",
       "      <td>Voting system designer</td>\n",
       "      <td>['culture', 'democracy', 'design', 'global iss...</td>\n",
       "      <td>E-voting without fraud</td>\n",
       "      <td>https://www.ted.com/talks/david_bismark_e_voti...</td>\n",
       "      <td>543551</td>\n",
       "      <td>0.001534</td>\n",
       "    </tr>\n",
       "    <tr>\n",
       "      <th>744</th>\n",
       "      <td>649</td>\n",
       "      <td>Hours before New York lawmakers rejected a key...</td>\n",
       "      <td>453</td>\n",
       "      <td>New York State Senate</td>\n",
       "      <td>1259712000</td>\n",
       "      <td>0</td>\n",
       "      <td>Diane J. Savino</td>\n",
       "      <td>Diane J. Savino: The case for same-sex marriage</td>\n",
       "      <td>1</td>\n",
       "      <td>1282062180</td>\n",
       "      <td>[{'id': 25, 'name': 'OK', 'count': 100}, {'id'...</td>\n",
       "      <td>[{'id': 217, 'hero': 'https://pe.tedcdn.com/im...</td>\n",
       "      <td>Senator</td>\n",
       "      <td>['God', 'LGBT', 'culture', 'government', 'law'...</td>\n",
       "      <td>The case for same-sex marriage</td>\n",
       "      <td>https://www.ted.com/talks/diane_j_savino_the_c...</td>\n",
       "      <td>292395</td>\n",
       "      <td>0.002220</td>\n",
       "    </tr>\n",
       "  </tbody>\n",
       "</table>\n",
       "</div>"
      ],
      "text/plain": [
       "     comments                                        description  duration  \\\n",
       "96       6404  Richard Dawkins urges all atheists to openly s...      1750   \n",
       "803       834  David Bismark demos a new system for voting th...       422   \n",
       "744       649  Hours before New York lawmakers rejected a key...       453   \n",
       "\n",
       "                     event   film_date  languages     main_speaker  \\\n",
       "96                 TED2002  1012608000         42  Richard Dawkins   \n",
       "803         TEDGlobal 2010  1279065600         36    David Bismark   \n",
       "744  New York State Senate  1259712000          0  Diane J. Savino   \n",
       "\n",
       "                                                name  num_speaker  \\\n",
       "96                 Richard Dawkins: Militant atheism            1   \n",
       "803            David Bismark: E-voting without fraud            1   \n",
       "744  Diane J. Savino: The case for same-sex marriage            1   \n",
       "\n",
       "     published_date                                            ratings  \\\n",
       "96       1176689220  [{'id': 3, 'name': 'Courageous', 'count': 3236...   \n",
       "803      1288685640  [{'id': 25, 'name': 'OK', 'count': 111}, {'id'...   \n",
       "744      1282062180  [{'id': 25, 'name': 'OK', 'count': 100}, {'id'...   \n",
       "\n",
       "                                         related_talks  \\\n",
       "96   [{'id': 86, 'hero': 'https://pe.tedcdn.com/ima...   \n",
       "803  [{'id': 803, 'hero': 'https://pe.tedcdn.com/im...   \n",
       "744  [{'id': 217, 'hero': 'https://pe.tedcdn.com/im...   \n",
       "\n",
       "         speaker_occupation  \\\n",
       "96   Evolutionary biologist   \n",
       "803  Voting system designer   \n",
       "744                 Senator   \n",
       "\n",
       "                                                  tags  \\\n",
       "96   ['God', 'atheism', 'culture', 'religion', 'sci...   \n",
       "803  ['culture', 'democracy', 'design', 'global iss...   \n",
       "744  ['God', 'LGBT', 'culture', 'government', 'law'...   \n",
       "\n",
       "                              title  \\\n",
       "96                 Militant atheism   \n",
       "803          E-voting without fraud   \n",
       "744  The case for same-sex marriage   \n",
       "\n",
       "                                                   url    views  \\\n",
       "96   https://www.ted.com/talks/richard_dawkins_on_m...  4374792   \n",
       "803  https://www.ted.com/talks/david_bismark_e_voti...   543551   \n",
       "744  https://www.ted.com/talks/diane_j_savino_the_c...   292395   \n",
       "\n",
       "     comments_per_view  \n",
       "96            0.001464  \n",
       "803           0.001534  \n",
       "744           0.002220  "
      ]
     },
     "execution_count": 16,
     "metadata": {},
     "output_type": "execute_result"
    }
   ],
   "source": [
    "df.sort_values('comments_per_view').tail(3)"
   ]
  },
  {
   "cell_type": "code",
   "execution_count": 17,
   "metadata": {},
   "outputs": [],
   "source": [
    "df['views_per_comment'] = df.views / df.comments"
   ]
  },
  {
   "cell_type": "code",
   "execution_count": 18,
   "metadata": {},
   "outputs": [
    {
     "data": {
      "text/html": [
       "<div>\n",
       "<style scoped>\n",
       "    .dataframe tbody tr th:only-of-type {\n",
       "        vertical-align: middle;\n",
       "    }\n",
       "\n",
       "    .dataframe tbody tr th {\n",
       "        vertical-align: top;\n",
       "    }\n",
       "\n",
       "    .dataframe thead th {\n",
       "        text-align: right;\n",
       "    }\n",
       "</style>\n",
       "<table border=\"1\" class=\"dataframe\">\n",
       "  <thead>\n",
       "    <tr style=\"text-align: right;\">\n",
       "      <th></th>\n",
       "      <th>comments</th>\n",
       "      <th>description</th>\n",
       "      <th>duration</th>\n",
       "      <th>event</th>\n",
       "      <th>film_date</th>\n",
       "      <th>languages</th>\n",
       "      <th>main_speaker</th>\n",
       "      <th>name</th>\n",
       "      <th>num_speaker</th>\n",
       "      <th>published_date</th>\n",
       "      <th>ratings</th>\n",
       "      <th>related_talks</th>\n",
       "      <th>speaker_occupation</th>\n",
       "      <th>tags</th>\n",
       "      <th>title</th>\n",
       "      <th>url</th>\n",
       "      <th>views</th>\n",
       "      <th>comments_per_view</th>\n",
       "      <th>views_per_comment</th>\n",
       "    </tr>\n",
       "  </thead>\n",
       "  <tbody>\n",
       "    <tr>\n",
       "      <th>744</th>\n",
       "      <td>649</td>\n",
       "      <td>Hours before New York lawmakers rejected a key...</td>\n",
       "      <td>453</td>\n",
       "      <td>New York State Senate</td>\n",
       "      <td>1259712000</td>\n",
       "      <td>0</td>\n",
       "      <td>Diane J. Savino</td>\n",
       "      <td>Diane J. Savino: The case for same-sex marriage</td>\n",
       "      <td>1</td>\n",
       "      <td>1282062180</td>\n",
       "      <td>[{'id': 25, 'name': 'OK', 'count': 100}, {'id'...</td>\n",
       "      <td>[{'id': 217, 'hero': 'https://pe.tedcdn.com/im...</td>\n",
       "      <td>Senator</td>\n",
       "      <td>['God', 'LGBT', 'culture', 'government', 'law'...</td>\n",
       "      <td>The case for same-sex marriage</td>\n",
       "      <td>https://www.ted.com/talks/diane_j_savino_the_c...</td>\n",
       "      <td>292395</td>\n",
       "      <td>0.002220</td>\n",
       "      <td>450.531587</td>\n",
       "    </tr>\n",
       "    <tr>\n",
       "      <th>803</th>\n",
       "      <td>834</td>\n",
       "      <td>David Bismark demos a new system for voting th...</td>\n",
       "      <td>422</td>\n",
       "      <td>TEDGlobal 2010</td>\n",
       "      <td>1279065600</td>\n",
       "      <td>36</td>\n",
       "      <td>David Bismark</td>\n",
       "      <td>David Bismark: E-voting without fraud</td>\n",
       "      <td>1</td>\n",
       "      <td>1288685640</td>\n",
       "      <td>[{'id': 25, 'name': 'OK', 'count': 111}, {'id'...</td>\n",
       "      <td>[{'id': 803, 'hero': 'https://pe.tedcdn.com/im...</td>\n",
       "      <td>Voting system designer</td>\n",
       "      <td>['culture', 'democracy', 'design', 'global iss...</td>\n",
       "      <td>E-voting without fraud</td>\n",
       "      <td>https://www.ted.com/talks/david_bismark_e_voti...</td>\n",
       "      <td>543551</td>\n",
       "      <td>0.001534</td>\n",
       "      <td>651.739808</td>\n",
       "    </tr>\n",
       "    <tr>\n",
       "      <th>96</th>\n",
       "      <td>6404</td>\n",
       "      <td>Richard Dawkins urges all atheists to openly s...</td>\n",
       "      <td>1750</td>\n",
       "      <td>TED2002</td>\n",
       "      <td>1012608000</td>\n",
       "      <td>42</td>\n",
       "      <td>Richard Dawkins</td>\n",
       "      <td>Richard Dawkins: Militant atheism</td>\n",
       "      <td>1</td>\n",
       "      <td>1176689220</td>\n",
       "      <td>[{'id': 3, 'name': 'Courageous', 'count': 3236...</td>\n",
       "      <td>[{'id': 86, 'hero': 'https://pe.tedcdn.com/ima...</td>\n",
       "      <td>Evolutionary biologist</td>\n",
       "      <td>['God', 'atheism', 'culture', 'religion', 'sci...</td>\n",
       "      <td>Militant atheism</td>\n",
       "      <td>https://www.ted.com/talks/richard_dawkins_on_m...</td>\n",
       "      <td>4374792</td>\n",
       "      <td>0.001464</td>\n",
       "      <td>683.134291</td>\n",
       "    </tr>\n",
       "  </tbody>\n",
       "</table>\n",
       "</div>"
      ],
      "text/plain": [
       "     comments                                        description  duration  \\\n",
       "744       649  Hours before New York lawmakers rejected a key...       453   \n",
       "803       834  David Bismark demos a new system for voting th...       422   \n",
       "96       6404  Richard Dawkins urges all atheists to openly s...      1750   \n",
       "\n",
       "                     event   film_date  languages     main_speaker  \\\n",
       "744  New York State Senate  1259712000          0  Diane J. Savino   \n",
       "803         TEDGlobal 2010  1279065600         36    David Bismark   \n",
       "96                 TED2002  1012608000         42  Richard Dawkins   \n",
       "\n",
       "                                                name  num_speaker  \\\n",
       "744  Diane J. Savino: The case for same-sex marriage            1   \n",
       "803            David Bismark: E-voting without fraud            1   \n",
       "96                 Richard Dawkins: Militant atheism            1   \n",
       "\n",
       "     published_date                                            ratings  \\\n",
       "744      1282062180  [{'id': 25, 'name': 'OK', 'count': 100}, {'id'...   \n",
       "803      1288685640  [{'id': 25, 'name': 'OK', 'count': 111}, {'id'...   \n",
       "96       1176689220  [{'id': 3, 'name': 'Courageous', 'count': 3236...   \n",
       "\n",
       "                                         related_talks  \\\n",
       "744  [{'id': 217, 'hero': 'https://pe.tedcdn.com/im...   \n",
       "803  [{'id': 803, 'hero': 'https://pe.tedcdn.com/im...   \n",
       "96   [{'id': 86, 'hero': 'https://pe.tedcdn.com/ima...   \n",
       "\n",
       "         speaker_occupation  \\\n",
       "744                 Senator   \n",
       "803  Voting system designer   \n",
       "96   Evolutionary biologist   \n",
       "\n",
       "                                                  tags  \\\n",
       "744  ['God', 'LGBT', 'culture', 'government', 'law'...   \n",
       "803  ['culture', 'democracy', 'design', 'global iss...   \n",
       "96   ['God', 'atheism', 'culture', 'religion', 'sci...   \n",
       "\n",
       "                              title  \\\n",
       "744  The case for same-sex marriage   \n",
       "803          E-voting without fraud   \n",
       "96                 Militant atheism   \n",
       "\n",
       "                                                   url    views  \\\n",
       "744  https://www.ted.com/talks/diane_j_savino_the_c...   292395   \n",
       "803  https://www.ted.com/talks/david_bismark_e_voti...   543551   \n",
       "96   https://www.ted.com/talks/richard_dawkins_on_m...  4374792   \n",
       "\n",
       "     comments_per_view  views_per_comment  \n",
       "744           0.002220         450.531587  \n",
       "803           0.001534         651.739808  \n",
       "96            0.001464         683.134291  "
      ]
     },
     "execution_count": 18,
     "metadata": {},
     "output_type": "execute_result"
    }
   ],
   "source": [
    "df.sort_values('views_per_comment').head(3)"
   ]
  },
  {
   "cell_type": "markdown",
   "metadata": {},
   "source": [
    "When looking at views_per_comment, we see that \"The Case for Same-Sex Marriage\" generates 450 views per comment. Or in other words, every 450 views will generate 1 comment. Which is easier to interpret than 0.002220 comments generated per view.\n",
    "\n",
    "Once the data is normalized to the number of views, the video that generates the most online discussion becomes \"The Case for Same-Sex Marriage\" instead of \"Militant Atheism\"."
   ]
  },
  {
   "cell_type": "markdown",
   "metadata": {},
   "source": [
    "## 2. Visualize the distribution of comments."
   ]
  },
  {
   "cell_type": "code",
   "execution_count": 29,
   "metadata": {},
   "outputs": [
    {
     "data": {
      "text/plain": [
       "<matplotlib.axes._subplots.AxesSubplot at 0x7fc15399b1c0>"
      ]
     },
     "execution_count": 29,
     "metadata": {},
     "output_type": "execute_result"
    },
    {
     "data": {
      "image/png": "[encoded data removed]",
      "text/plain": [
       "<Figure size 432x288 with 1 Axes>"
      ]
     },
     "metadata": {
      "needs_background": "light"
     },
     "output_type": "display_data"
    }
   ],
   "source": [
    "df.comments.plot(kind='hist')"
   ]
  },
  {
   "cell_type": "code",
   "execution_count": 30,
   "metadata": {},
   "outputs": [
    {
     "data": {
      "text/plain": [
       "<matplotlib.axes._subplots.AxesSubplot at 0x7fc15d0d2f70>"
      ]
     },
     "execution_count": 30,
     "metadata": {},
     "output_type": "execute_result"
    },
    {
     "data": {
      "image/png": "[encoded data removed]",
      "text/plain": [
       "<Figure size 432x288 with 1 Axes>"
      ]
     },
     "metadata": {
      "needs_background": "light"
     },
     "output_type": "display_data"
    }
   ],
   "source": [
    "df[df.comments < 1000].comments.hist()"
   ]
  },
  {
   "cell_type": "code",
   "execution_count": 31,
   "metadata": {},
   "outputs": [
    {
     "data": {
      "text/plain": [
       "<matplotlib.axes._subplots.AxesSubplot at 0x7fc15c997b80>"
      ]
     },
     "execution_count": 31,
     "metadata": {},
     "output_type": "execute_result"
    },
    {
     "data": {
      "image/png": "[encoded data removed]",
      "text/plain": [
       "<Figure size 432x288 with 1 Axes>"
      ]
     },
     "metadata": {
      "needs_background": "light"
     },
     "output_type": "display_data"
    }
   ],
   "source": [
    "# When filtering with .loc, specify the rows (df.comments < 1000) and then the columns ('comments') you want.\n",
    "df.loc[df.comments < 1000, 'comments'].plot(kind='hist', bins=20)"
   ]
  },
  {
   "cell_type": "code",
   "execution_count": 32,
   "metadata": {},
   "outputs": [
    {
     "data": {
      "text/plain": [
       "<matplotlib.axes._subplots.AxesSubplot at 0x7fc1538fe5b0>"
      ]
     },
     "execution_count": 32,
     "metadata": {},
     "output_type": "execute_result"
    },
    {
     "data": {
      "image/png": "[encoded data removed]",
      "text/plain": [
       "<Figure size 432x288 with 1 Axes>"
      ]
     },
     "metadata": {
      "needs_background": "light"
     },
     "output_type": "display_data"
    }
   ],
   "source": [
    "df.loc[df.comments < 1000, 'comments'].plot(kind='box')"
   ]
  },
  {
   "cell_type": "markdown",
   "metadata": {},
   "source": [
    "Box plots show distributions and quartiles. However, in this case, there are a lot of outliers (black circles) so the box plot is not that informative.\n",
    "\n",
    "Bar plots are good for comparing categories.\n",
    "\n",
    "Line plots are good for time series data.\n",
    "\n",
    "Scatter plots are good for comparing multiple numeric values."
   ]
  },
  {
   "cell_type": "markdown",
   "metadata": {},
   "source": [
    "## 3. Plot the number of talks that took place each year"
   ]
  },
  {
   "cell_type": "code",
   "execution_count": 40,
   "metadata": {},
   "outputs": [
    {
     "data": {
      "text/html": [
       "<div>\n",
       "<style scoped>\n",
       "    .dataframe tbody tr th:only-of-type {\n",
       "        vertical-align: middle;\n",
       "    }\n",
       "\n",
       "    .dataframe tbody tr th {\n",
       "        vertical-align: top;\n",
       "    }\n",
       "\n",
       "    .dataframe thead th {\n",
       "        text-align: right;\n",
       "    }\n",
       "</style>\n",
       "<table border=\"1\" class=\"dataframe\">\n",
       "  <thead>\n",
       "    <tr style=\"text-align: right;\">\n",
       "      <th></th>\n",
       "      <th>comments</th>\n",
       "      <th>duration</th>\n",
       "      <th>film_date</th>\n",
       "      <th>languages</th>\n",
       "      <th>num_speaker</th>\n",
       "      <th>published_date</th>\n",
       "      <th>views</th>\n",
       "      <th>comments_per_view</th>\n",
       "      <th>views_per_comment</th>\n",
       "    </tr>\n",
       "    <tr>\n",
       "      <th>event</th>\n",
       "      <th></th>\n",
       "      <th></th>\n",
       "      <th></th>\n",
       "      <th></th>\n",
       "      <th></th>\n",
       "      <th></th>\n",
       "      <th></th>\n",
       "      <th></th>\n",
       "      <th></th>\n",
       "    </tr>\n",
       "  </thead>\n",
       "  <tbody>\n",
       "    <tr>\n",
       "      <th>AORN Congress</th>\n",
       "      <td>87</td>\n",
       "      <td>510</td>\n",
       "      <td>1237024800</td>\n",
       "      <td>0</td>\n",
       "      <td>1</td>\n",
       "      <td>1263027540</td>\n",
       "      <td>149818</td>\n",
       "      <td>0.000581</td>\n",
       "      <td>1722.045977</td>\n",
       "    </tr>\n",
       "    <tr>\n",
       "      <th>Arbejdsglaede Live</th>\n",
       "      <td>258</td>\n",
       "      <td>1092</td>\n",
       "      <td>1241481600</td>\n",
       "      <td>22</td>\n",
       "      <td>1</td>\n",
       "      <td>1267802040</td>\n",
       "      <td>971594</td>\n",
       "      <td>0.000266</td>\n",
       "      <td>3765.868217</td>\n",
       "    </tr>\n",
       "    <tr>\n",
       "      <th>BBC TV</th>\n",
       "      <td>146</td>\n",
       "      <td>3955</td>\n",
       "      <td>426531600</td>\n",
       "      <td>0</td>\n",
       "      <td>1</td>\n",
       "      <td>1267631820</td>\n",
       "      <td>521974</td>\n",
       "      <td>0.000280</td>\n",
       "      <td>3575.164384</td>\n",
       "    </tr>\n",
       "    <tr>\n",
       "      <th>Bowery Poetry Club</th>\n",
       "      <td>177</td>\n",
       "      <td>182</td>\n",
       "      <td>1131805080</td>\n",
       "      <td>0</td>\n",
       "      <td>1</td>\n",
       "      <td>1264252560</td>\n",
       "      <td>676741</td>\n",
       "      <td>0.000262</td>\n",
       "      <td>3823.395480</td>\n",
       "    </tr>\n",
       "    <tr>\n",
       "      <th>Business Innovation Factory</th>\n",
       "      <td>264</td>\n",
       "      <td>3317</td>\n",
       "      <td>3765052800</td>\n",
       "      <td>49</td>\n",
       "      <td>3</td>\n",
       "      <td>3832642740</td>\n",
       "      <td>912258</td>\n",
       "      <td>0.001107</td>\n",
       "      <td>11290.742305</td>\n",
       "    </tr>\n",
       "    <tr>\n",
       "      <th>...</th>\n",
       "      <td>...</td>\n",
       "      <td>...</td>\n",
       "      <td>...</td>\n",
       "      <td>...</td>\n",
       "      <td>...</td>\n",
       "      <td>...</td>\n",
       "      <td>...</td>\n",
       "      <td>...</td>\n",
       "      <td>...</td>\n",
       "    </tr>\n",
       "    <tr>\n",
       "      <th>The Do Lectures</th>\n",
       "      <td>40</td>\n",
       "      <td>1690</td>\n",
       "      <td>1253232000</td>\n",
       "      <td>0</td>\n",
       "      <td>1</td>\n",
       "      <td>1285488000</td>\n",
       "      <td>112321</td>\n",
       "      <td>0.000356</td>\n",
       "      <td>2808.025000</td>\n",
       "    </tr>\n",
       "    <tr>\n",
       "      <th>Toronto Youth Corps</th>\n",
       "      <td>373</td>\n",
       "      <td>262</td>\n",
       "      <td>74649600</td>\n",
       "      <td>0</td>\n",
       "      <td>1</td>\n",
       "      <td>1273847820</td>\n",
       "      <td>1028630</td>\n",
       "      <td>0.000363</td>\n",
       "      <td>2757.721180</td>\n",
       "    </tr>\n",
       "    <tr>\n",
       "      <th>University of California</th>\n",
       "      <td>121</td>\n",
       "      <td>8829</td>\n",
       "      <td>2087596800</td>\n",
       "      <td>0</td>\n",
       "      <td>2</td>\n",
       "      <td>2532243480</td>\n",
       "      <td>523663</td>\n",
       "      <td>0.000610</td>\n",
       "      <td>7207.496535</td>\n",
       "    </tr>\n",
       "    <tr>\n",
       "      <th>Web 2.0 Expo 2008</th>\n",
       "      <td>556</td>\n",
       "      <td>927</td>\n",
       "      <td>1221846540</td>\n",
       "      <td>0</td>\n",
       "      <td>1</td>\n",
       "      <td>1268412360</td>\n",
       "      <td>757791</td>\n",
       "      <td>0.000734</td>\n",
       "      <td>1362.933453</td>\n",
       "    </tr>\n",
       "    <tr>\n",
       "      <th>World Science Festival</th>\n",
       "      <td>321</td>\n",
       "      <td>184</td>\n",
       "      <td>1244592000</td>\n",
       "      <td>0</td>\n",
       "      <td>1</td>\n",
       "      <td>1267232400</td>\n",
       "      <td>3302312</td>\n",
       "      <td>0.000097</td>\n",
       "      <td>10287.576324</td>\n",
       "    </tr>\n",
       "  </tbody>\n",
       "</table>\n",
       "<p>355 rows × 9 columns</p>\n",
       "</div>"
      ],
      "text/plain": [
       "                             comments  duration   film_date  languages  \\\n",
       "event                                                                    \n",
       "AORN Congress                      87       510  1237024800          0   \n",
       "Arbejdsglaede Live                258      1092  1241481600         22   \n",
       "BBC TV                            146      3955   426531600          0   \n",
       "Bowery Poetry Club                177       182  1131805080          0   \n",
       "Business Innovation Factory       264      3317  3765052800         49   \n",
       "...                               ...       ...         ...        ...   \n",
       "The Do Lectures                    40      1690  1253232000          0   \n",
       "Toronto Youth Corps               373       262    74649600          0   \n",
       "University of California          121      8829  2087596800          0   \n",
       "Web 2.0 Expo 2008                 556       927  1221846540          0   \n",
       "World Science Festival            321       184  1244592000          0   \n",
       "\n",
       "                             num_speaker  published_date    views  \\\n",
       "event                                                               \n",
       "AORN Congress                          1      1263027540   149818   \n",
       "Arbejdsglaede Live                     1      1267802040   971594   \n",
       "BBC TV                                 1      1267631820   521974   \n",
       "Bowery Poetry Club                     1      1264252560   676741   \n",
       "Business Innovation Factory            3      3832642740   912258   \n",
       "...                                  ...             ...      ...   \n",
       "The Do Lectures                        1      1285488000   112321   \n",
       "Toronto Youth Corps                    1      1273847820  1028630   \n",
       "University of California               2      2532243480   523663   \n",
       "Web 2.0 Expo 2008                      1      1268412360   757791   \n",
       "World Science Festival                 1      1267232400  3302312   \n",
       "\n",
       "                             comments_per_view  views_per_comment  \n",
       "event                                                              \n",
       "AORN Congress                         0.000581        1722.045977  \n",
       "Arbejdsglaede Live                    0.000266        3765.868217  \n",
       "BBC TV                                0.000280        3575.164384  \n",
       "Bowery Poetry Club                    0.000262        3823.395480  \n",
       "Business Innovation Factory           0.001107       11290.742305  \n",
       "...                                        ...                ...  \n",
       "The Do Lectures                       0.000356        2808.025000  \n",
       "Toronto Youth Corps                   0.000363        2757.721180  \n",
       "University of California              0.000610        7207.496535  \n",
       "Web 2.0 Expo 2008                     0.000734        1362.933453  \n",
       "World Science Festival                0.000097       10287.576324  \n",
       "\n",
       "[355 rows x 9 columns]"
      ]
     },
     "execution_count": 40,
     "metadata": {},
     "output_type": "execute_result"
    }
   ],
   "source": [
    "df.groupby(by='event').sum()"
   ]
  },
  {
   "cell_type": "code",
   "execution_count": 41,
   "metadata": {},
   "outputs": [
    {
     "data": {
      "text/plain": [
       "1913              TEDGlobal 2014\n",
       "1367              TEDGlobal 2012\n",
       "752          Mission Blue Voyage\n",
       "2412               TEDxFrankfurt\n",
       "1202                  TEDxChange\n",
       "369            Serious Play 2008\n",
       "2173              TED@BCG London\n",
       "1459                     TED2013\n",
       "1270    TEDxLondonBusinessSchool\n",
       "548               TEDGlobal 2009\n",
       "Name: event, dtype: object"
      ]
     },
     "execution_count": 41,
     "metadata": {},
     "output_type": "execute_result"
    }
   ],
   "source": [
    "# Randomly sample 10 rows\n",
    "df.event.sample(10)"
   ]
  },
  {
   "cell_type": "code",
   "execution_count": 45,
   "metadata": {},
   "outputs": [],
   "source": [
    "df['film_datetime'] = pd.to_datetime(df.film_date, unit='s')"
   ]
  },
  {
   "cell_type": "code",
   "execution_count": 46,
   "metadata": {},
   "outputs": [
    {
     "data": {
      "text/html": [
       "<div>\n",
       "<style scoped>\n",
       "    .dataframe tbody tr th:only-of-type {\n",
       "        vertical-align: middle;\n",
       "    }\n",
       "\n",
       "    .dataframe tbody tr th {\n",
       "        vertical-align: top;\n",
       "    }\n",
       "\n",
       "    .dataframe thead th {\n",
       "        text-align: right;\n",
       "    }\n",
       "</style>\n",
       "<table border=\"1\" class=\"dataframe\">\n",
       "  <thead>\n",
       "    <tr style=\"text-align: right;\">\n",
       "      <th></th>\n",
       "      <th>event</th>\n",
       "      <th>film_datetime</th>\n",
       "    </tr>\n",
       "  </thead>\n",
       "  <tbody>\n",
       "    <tr>\n",
       "      <th>392</th>\n",
       "      <td>TED2004</td>\n",
       "      <td>2004-02-02</td>\n",
       "    </tr>\n",
       "    <tr>\n",
       "      <th>343</th>\n",
       "      <td>Taste3 2008</td>\n",
       "      <td>2008-07-18</td>\n",
       "    </tr>\n",
       "    <tr>\n",
       "      <th>1602</th>\n",
       "      <td>TEDMED 2013</td>\n",
       "      <td>2013-04-18</td>\n",
       "    </tr>\n",
       "    <tr>\n",
       "      <th>1073</th>\n",
       "      <td>TEDxOrangeCoast</td>\n",
       "      <td>2011-05-19</td>\n",
       "    </tr>\n",
       "    <tr>\n",
       "      <th>1736</th>\n",
       "      <td>TED2014</td>\n",
       "      <td>2014-03-21</td>\n",
       "    </tr>\n",
       "  </tbody>\n",
       "</table>\n",
       "</div>"
      ],
      "text/plain": [
       "                event film_datetime\n",
       "392           TED2004    2004-02-02\n",
       "343       Taste3 2008    2008-07-18\n",
       "1602      TEDMED 2013    2013-04-18\n",
       "1073  TEDxOrangeCoast    2011-05-19\n",
       "1736          TED2014    2014-03-21"
      ]
     },
     "execution_count": 46,
     "metadata": {},
     "output_type": "execute_result"
    }
   ],
   "source": [
    "df[['event','film_datetime']].sample(5)"
   ]
  },
  {
   "cell_type": "code",
   "execution_count": 47,
   "metadata": {},
   "outputs": [
    {
     "data": {
      "text/plain": [
       "comments                       int64\n",
       "description                   object\n",
       "duration                       int64\n",
       "event                         object\n",
       "film_date                      int64\n",
       "languages                      int64\n",
       "main_speaker                  object\n",
       "name                          object\n",
       "num_speaker                    int64\n",
       "published_date                 int64\n",
       "ratings                       object\n",
       "related_talks                 object\n",
       "speaker_occupation            object\n",
       "tags                          object\n",
       "title                         object\n",
       "url                           object\n",
       "views                          int64\n",
       "comments_per_view            float64\n",
       "views_per_comment            float64\n",
       "film_datetime         datetime64[ns]\n",
       "dtype: object"
      ]
     },
     "execution_count": 47,
     "metadata": {},
     "output_type": "execute_result"
    }
   ],
   "source": [
    "df.dtypes"
   ]
  },
  {
   "cell_type": "code",
   "execution_count": 48,
   "metadata": {},
   "outputs": [
    {
     "data": {
      "text/plain": [
       "0       2006\n",
       "1       2006\n",
       "2       2006\n",
       "3       2006\n",
       "4       2006\n",
       "        ... \n",
       "2545    2017\n",
       "2546    2017\n",
       "2547    2017\n",
       "2548    2017\n",
       "2549    2017\n",
       "Name: film_datetime, Length: 2550, dtype: int64"
      ]
     },
     "execution_count": 48,
     "metadata": {},
     "output_type": "execute_result"
    }
   ],
   "source": [
    "# Using the datetime datatype, now we can select the rows by year\n",
    "df.film_datetime.dt.year"
   ]
  },
  {
   "cell_type": "code",
   "execution_count": 49,
   "metadata": {},
   "outputs": [
    {
     "data": {
      "text/plain": [
       "2013    270\n",
       "2011    270\n",
       "2010    267\n",
       "2012    267\n",
       "2016    246\n",
       "2015    239\n",
       "2014    237\n",
       "2009    232\n",
       "2007    114\n",
       "2017     98\n",
       "2008     84\n",
       "2005     66\n",
       "2006     50\n",
       "2003     33\n",
       "2004     33\n",
       "2002     27\n",
       "1998      6\n",
       "2001      5\n",
       "1983      1\n",
       "1991      1\n",
       "1994      1\n",
       "1990      1\n",
       "1984      1\n",
       "1972      1\n",
       "Name: film_datetime, dtype: int64"
      ]
     },
     "execution_count": 49,
     "metadata": {},
     "output_type": "execute_result"
    }
   ],
   "source": [
    "df.film_datetime.dt.year.value_counts()"
   ]
  },
  {
   "cell_type": "code",
   "execution_count": 56,
   "metadata": {},
   "outputs": [
    {
     "data": {
      "text/plain": [
       "<matplotlib.axes._subplots.AxesSubplot at 0x7fc1511dcfa0>"
      ]
     },
     "execution_count": 56,
     "metadata": {},
     "output_type": "execute_result"
    },
    {
     "data": {
      "image/png": "[encoded data removed]",
      "text/plain": [
       "<Figure size 432x288 with 1 Axes>"
      ]
     },
     "metadata": {
      "needs_background": "light"
     },
     "output_type": "display_data"
    }
   ],
   "source": [
    "# sort_index() sorts by the left column (the years)\n",
    "df.film_datetime.dt.year.value_counts().sort_index().plot()"
   ]
  },
  {
   "cell_type": "markdown",
   "metadata": {},
   "source": [
    "## 4. What were the best events in TED history to attend?"
   ]
  },
  {
   "cell_type": "code",
   "execution_count": 58,
   "metadata": {},
   "outputs": [
    {
     "data": {
      "text/html": [
       "<div>\n",
       "<style scoped>\n",
       "    .dataframe tbody tr th:only-of-type {\n",
       "        vertical-align: middle;\n",
       "    }\n",
       "\n",
       "    .dataframe tbody tr th {\n",
       "        vertical-align: top;\n",
       "    }\n",
       "\n",
       "    .dataframe thead th {\n",
       "        text-align: right;\n",
       "    }\n",
       "</style>\n",
       "<table border=\"1\" class=\"dataframe\">\n",
       "  <thead>\n",
       "    <tr style=\"text-align: right;\">\n",
       "      <th></th>\n",
       "      <th>comments</th>\n",
       "      <th>duration</th>\n",
       "      <th>film_date</th>\n",
       "      <th>languages</th>\n",
       "      <th>num_speaker</th>\n",
       "      <th>published_date</th>\n",
       "      <th>views</th>\n",
       "      <th>comments_per_view</th>\n",
       "      <th>views_per_comment</th>\n",
       "    </tr>\n",
       "    <tr>\n",
       "      <th>ratings</th>\n",
       "      <th></th>\n",
       "      <th></th>\n",
       "      <th></th>\n",
       "      <th></th>\n",
       "      <th></th>\n",
       "      <th></th>\n",
       "      <th></th>\n",
       "      <th></th>\n",
       "      <th></th>\n",
       "    </tr>\n",
       "  </thead>\n",
       "  <tbody>\n",
       "    <tr>\n",
       "      <th>[{'id': 1, 'name': 'Beautiful', 'count': 100}, {'id': 9, 'name': 'Ingenious', 'count': 97}, {'id': 3, 'name': 'Courageous', 'count': 78}, {'id': 8, 'name': 'Informative', 'count': 313}, {'id': 10, 'name': 'Inspiring', 'count': 518}, {'id': 21, 'name': 'Unconvincing', 'count': 30}, {'id': 22, 'name': 'Fascinating', 'count': 158}, {'id': 11, 'name': 'Longwinded', 'count': 31}, {'id': 7, 'name': 'Funny', 'count': 12}, {'id': 25, 'name': 'OK', 'count': 59}, {'id': 23, 'name': 'Jaw-dropping', 'count': 72}, {'id': 24, 'name': 'Persuasive', 'count': 174}, {'id': 26, 'name': 'Obnoxious', 'count': 14}, {'id': 2, 'name': 'Confusing', 'count': 15}]</th>\n",
       "      <td>107</td>\n",
       "      <td>1054</td>\n",
       "      <td>1120694400</td>\n",
       "      <td>32</td>\n",
       "      <td>1</td>\n",
       "      <td>1175731860</td>\n",
       "      <td>1392010</td>\n",
       "      <td>0.000077</td>\n",
       "      <td>13009.439252</td>\n",
       "    </tr>\n",
       "    <tr>\n",
       "      <th>[{'id': 1, 'name': 'Beautiful', 'count': 101}, {'id': 3, 'name': 'Courageous', 'count': 141}, {'id': 10, 'name': 'Inspiring', 'count': 252}, {'id': 11, 'name': 'Longwinded', 'count': 20}, {'id': 8, 'name': 'Informative', 'count': 92}, {'id': 22, 'name': 'Fascinating', 'count': 36}, {'id': 2, 'name': 'Confusing', 'count': 15}, {'id': 24, 'name': 'Persuasive', 'count': 39}, {'id': 21, 'name': 'Unconvincing', 'count': 10}, {'id': 26, 'name': 'Obnoxious', 'count': 11}, {'id': 9, 'name': 'Ingenious', 'count': 19}, {'id': 25, 'name': 'OK', 'count': 28}, {'id': 23, 'name': 'Jaw-dropping', 'count': 7}, {'id': 7, 'name': 'Funny', 'count': 5}]</th>\n",
       "      <td>28</td>\n",
       "      <td>822</td>\n",
       "      <td>1440547200</td>\n",
       "      <td>20</td>\n",
       "      <td>1</td>\n",
       "      <td>1449505018</td>\n",
       "      <td>1049263</td>\n",
       "      <td>0.000027</td>\n",
       "      <td>37473.678571</td>\n",
       "    </tr>\n",
       "    <tr>\n",
       "      <th>[{'id': 1, 'name': 'Beautiful', 'count': 101}, {'id': 3, 'name': 'Courageous', 'count': 84}, {'id': 10, 'name': 'Inspiring', 'count': 199}, {'id': 22, 'name': 'Fascinating', 'count': 83}, {'id': 9, 'name': 'Ingenious', 'count': 61}, {'id': 8, 'name': 'Informative', 'count': 67}, {'id': 24, 'name': 'Persuasive', 'count': 13}, {'id': 11, 'name': 'Longwinded', 'count': 2}, {'id': 25, 'name': 'OK', 'count': 10}, {'id': 7, 'name': 'Funny', 'count': 2}, {'id': 21, 'name': 'Unconvincing', 'count': 2}, {'id': 23, 'name': 'Jaw-dropping', 'count': 23}, {'id': 2, 'name': 'Confusing', 'count': 4}, {'id': 26, 'name': 'Obnoxious', 'count': 1}]</th>\n",
       "      <td>24</td>\n",
       "      <td>675</td>\n",
       "      <td>1455580800</td>\n",
       "      <td>23</td>\n",
       "      <td>1</td>\n",
       "      <td>1467038171</td>\n",
       "      <td>803813</td>\n",
       "      <td>0.000030</td>\n",
       "      <td>33492.208333</td>\n",
       "    </tr>\n",
       "    <tr>\n",
       "      <th>[{'id': 1, 'name': 'Beautiful', 'count': 101}, {'id': 7, 'name': 'Funny', 'count': 306}, {'id': 9, 'name': 'Ingenious', 'count': 106}, {'id': 11, 'name': 'Longwinded', 'count': 54}, {'id': 3, 'name': 'Courageous', 'count': 39}, {'id': 10, 'name': 'Inspiring', 'count': 230}, {'id': 8, 'name': 'Informative', 'count': 360}, {'id': 21, 'name': 'Unconvincing', 'count': 184}, {'id': 22, 'name': 'Fascinating', 'count': 298}, {'id': 2, 'name': 'Confusing', 'count': 34}, {'id': 25, 'name': 'OK', 'count': 66}, {'id': 23, 'name': 'Jaw-dropping', 'count': 54}, {'id': 26, 'name': 'Obnoxious', 'count': 47}, {'id': 24, 'name': 'Persuasive', 'count': 29}]</th>\n",
       "      <td>114</td>\n",
       "      <td>1211</td>\n",
       "      <td>1107302400</td>\n",
       "      <td>28</td>\n",
       "      <td>1</td>\n",
       "      <td>1175731860</td>\n",
       "      <td>1520908</td>\n",
       "      <td>0.000075</td>\n",
       "      <td>13341.298246</td>\n",
       "    </tr>\n",
       "    <tr>\n",
       "      <th>[{'id': 1, 'name': 'Beautiful', 'count': 1024}, {'id': 3, 'name': 'Courageous', 'count': 431}, {'id': 8, 'name': 'Informative', 'count': 268}, {'id': 24, 'name': 'Persuasive', 'count': 97}, {'id': 10, 'name': 'Inspiring', 'count': 822}, {'id': 9, 'name': 'Ingenious', 'count': 120}, {'id': 25, 'name': 'OK', 'count': 86}, {'id': 7, 'name': 'Funny', 'count': 17}, {'id': 11, 'name': 'Longwinded', 'count': 15}, {'id': 22, 'name': 'Fascinating', 'count': 198}, {'id': 21, 'name': 'Unconvincing', 'count': 8}, {'id': 26, 'name': 'Obnoxious', 'count': 9}, {'id': 23, 'name': 'Jaw-dropping', 'count': 64}, {'id': 2, 'name': 'Confusing', 'count': 6}]</th>\n",
       "      <td>93</td>\n",
       "      <td>687</td>\n",
       "      <td>1455753600</td>\n",
       "      <td>30</td>\n",
       "      <td>1</td>\n",
       "      <td>1459178550</td>\n",
       "      <td>1961502</td>\n",
       "      <td>0.000047</td>\n",
       "      <td>21091.419355</td>\n",
       "    </tr>\n",
       "    <tr>\n",
       "      <th>...</th>\n",
       "      <td>...</td>\n",
       "      <td>...</td>\n",
       "      <td>...</td>\n",
       "      <td>...</td>\n",
       "      <td>...</td>\n",
       "      <td>...</td>\n",
       "      <td>...</td>\n",
       "      <td>...</td>\n",
       "      <td>...</td>\n",
       "    </tr>\n",
       "    <tr>\n",
       "      <th>[{'id': 9, 'name': 'Ingenious', 'count': 93}, {'id': 10, 'name': 'Inspiring', 'count': 271}, {'id': 24, 'name': 'Persuasive', 'count': 400}, {'id': 21, 'name': 'Unconvincing', 'count': 25}, {'id': 25, 'name': 'OK', 'count': 140}, {'id': 3, 'name': 'Courageous', 'count': 101}, {'id': 26, 'name': 'Obnoxious', 'count': 13}, {'id': 8, 'name': 'Informative', 'count': 317}, {'id': 1, 'name': 'Beautiful', 'count': 38}, {'id': 22, 'name': 'Fascinating', 'count': 46}, {'id': 7, 'name': 'Funny', 'count': 143}, {'id': 11, 'name': 'Longwinded', 'count': 6}, {'id': 23, 'name': 'Jaw-dropping', 'count': 4}, {'id': 2, 'name': 'Confusing', 'count': 2}]</th>\n",
       "      <td>100</td>\n",
       "      <td>276</td>\n",
       "      <td>1404777600</td>\n",
       "      <td>30</td>\n",
       "      <td>1</td>\n",
       "      <td>1409239618</td>\n",
       "      <td>1198332</td>\n",
       "      <td>0.000083</td>\n",
       "      <td>11983.320000</td>\n",
       "    </tr>\n",
       "    <tr>\n",
       "      <th>[{'id': 9, 'name': 'Ingenious', 'count': 942}, {'id': 10, 'name': 'Inspiring', 'count': 1075}, {'id': 8, 'name': 'Informative', 'count': 310}, {'id': 22, 'name': 'Fascinating', 'count': 688}, {'id': 11, 'name': 'Longwinded', 'count': 28}, {'id': 1, 'name': 'Beautiful', 'count': 265}, {'id': 21, 'name': 'Unconvincing', 'count': 25}, {'id': 3, 'name': 'Courageous', 'count': 348}, {'id': 2, 'name': 'Confusing', 'count': 24}, {'id': 7, 'name': 'Funny', 'count': 26}, {'id': 23, 'name': 'Jaw-dropping', 'count': 2080}, {'id': 24, 'name': 'Persuasive', 'count': 87}, {'id': 25, 'name': 'OK', 'count': 65}, {'id': 26, 'name': 'Obnoxious', 'count': 25}]</th>\n",
       "      <td>102</td>\n",
       "      <td>310</td>\n",
       "      <td>1173398400</td>\n",
       "      <td>32</td>\n",
       "      <td>1</td>\n",
       "      <td>1188280800</td>\n",
       "      <td>1575699</td>\n",
       "      <td>0.000065</td>\n",
       "      <td>15448.029412</td>\n",
       "    </tr>\n",
       "    <tr>\n",
       "      <th>[{'id': 9, 'name': 'Ingenious', 'count': 95}, {'id': 23, 'name': 'Jaw-dropping', 'count': 25}, {'id': 10, 'name': 'Inspiring', 'count': 57}, {'id': 25, 'name': 'OK', 'count': 50}, {'id': 22, 'name': 'Fascinating', 'count': 97}, {'id': 8, 'name': 'Informative', 'count': 100}, {'id': 1, 'name': 'Beautiful', 'count': 23}, {'id': 24, 'name': 'Persuasive', 'count': 16}, {'id': 2, 'name': 'Confusing', 'count': 11}, {'id': 3, 'name': 'Courageous', 'count': 16}, {'id': 21, 'name': 'Unconvincing', 'count': 32}, {'id': 11, 'name': 'Longwinded', 'count': 19}, {'id': 7, 'name': 'Funny', 'count': 2}, {'id': 26, 'name': 'Obnoxious', 'count': 1}]</th>\n",
       "      <td>77</td>\n",
       "      <td>620</td>\n",
       "      <td>1371600000</td>\n",
       "      <td>25</td>\n",
       "      <td>1</td>\n",
       "      <td>1389282937</td>\n",
       "      <td>1187105</td>\n",
       "      <td>0.000065</td>\n",
       "      <td>15416.948052</td>\n",
       "    </tr>\n",
       "    <tr>\n",
       "      <th>[{'id': 9, 'name': 'Ingenious', 'count': 982}, {'id': 22, 'name': 'Fascinating', 'count': 1266}, {'id': 23, 'name': 'Jaw-dropping', 'count': 752}, {'id': 1, 'name': 'Beautiful', 'count': 85}, {'id': 8, 'name': 'Informative', 'count': 509}, {'id': 10, 'name': 'Inspiring', 'count': 586}, {'id': 21, 'name': 'Unconvincing', 'count': 18}, {'id': 26, 'name': 'Obnoxious', 'count': 15}, {'id': 3, 'name': 'Courageous', 'count': 38}, {'id': 24, 'name': 'Persuasive', 'count': 66}, {'id': 2, 'name': 'Confusing', 'count': 16}, {'id': 7, 'name': 'Funny', 'count': 47}, {'id': 25, 'name': 'OK', 'count': 67}, {'id': 11, 'name': 'Longwinded', 'count': 6}]</th>\n",
       "      <td>221</td>\n",
       "      <td>1234</td>\n",
       "      <td>1426550400</td>\n",
       "      <td>32</td>\n",
       "      <td>1</td>\n",
       "      <td>1426695045</td>\n",
       "      <td>1738331</td>\n",
       "      <td>0.000127</td>\n",
       "      <td>7865.751131</td>\n",
       "    </tr>\n",
       "    <tr>\n",
       "      <th>[{'id': 9, 'name': 'Ingenious', 'count': 986}, {'id': 8, 'name': 'Informative', 'count': 366}, {'id': 22, 'name': 'Fascinating', 'count': 890}, {'id': 23, 'name': 'Jaw-dropping', 'count': 922}, {'id': 25, 'name': 'OK', 'count': 60}, {'id': 10, 'name': 'Inspiring', 'count': 605}, {'id': 2, 'name': 'Confusing', 'count': 8}, {'id': 1, 'name': 'Beautiful', 'count': 128}, {'id': 3, 'name': 'Courageous', 'count': 17}, {'id': 11, 'name': 'Longwinded', 'count': 15}, {'id': 24, 'name': 'Persuasive', 'count': 18}, {'id': 7, 'name': 'Funny', 'count': 195}, {'id': 21, 'name': 'Unconvincing', 'count': 3}, {'id': 26, 'name': 'Obnoxious', 'count': 4}]</th>\n",
       "      <td>102</td>\n",
       "      <td>798</td>\n",
       "      <td>1415836800</td>\n",
       "      <td>30</td>\n",
       "      <td>1</td>\n",
       "      <td>1419352274</td>\n",
       "      <td>1948196</td>\n",
       "      <td>0.000052</td>\n",
       "      <td>19099.960784</td>\n",
       "    </tr>\n",
       "  </tbody>\n",
       "</table>\n",
       "<p>2550 rows × 9 columns</p>\n",
       "</div>"
      ],
      "text/plain": [
       "                                                    comments  duration  \\\n",
       "ratings                                                                  \n",
       "[{'id': 1, 'name': 'Beautiful', 'count': 100}, ...       107      1054   \n",
       "[{'id': 1, 'name': 'Beautiful', 'count': 101}, ...        28       822   \n",
       "[{'id': 1, 'name': 'Beautiful', 'count': 101}, ...        24       675   \n",
       "[{'id': 1, 'name': 'Beautiful', 'count': 101}, ...       114      1211   \n",
       "[{'id': 1, 'name': 'Beautiful', 'count': 1024},...        93       687   \n",
       "...                                                      ...       ...   \n",
       "[{'id': 9, 'name': 'Ingenious', 'count': 93}, {...       100       276   \n",
       "[{'id': 9, 'name': 'Ingenious', 'count': 942}, ...       102       310   \n",
       "[{'id': 9, 'name': 'Ingenious', 'count': 95}, {...        77       620   \n",
       "[{'id': 9, 'name': 'Ingenious', 'count': 982}, ...       221      1234   \n",
       "[{'id': 9, 'name': 'Ingenious', 'count': 986}, ...       102       798   \n",
       "\n",
       "                                                     film_date  languages  \\\n",
       "ratings                                                                     \n",
       "[{'id': 1, 'name': 'Beautiful', 'count': 100}, ...  1120694400         32   \n",
       "[{'id': 1, 'name': 'Beautiful', 'count': 101}, ...  1440547200         20   \n",
       "[{'id': 1, 'name': 'Beautiful', 'count': 101}, ...  1455580800         23   \n",
       "[{'id': 1, 'name': 'Beautiful', 'count': 101}, ...  1107302400         28   \n",
       "[{'id': 1, 'name': 'Beautiful', 'count': 1024},...  1455753600         30   \n",
       "...                                                        ...        ...   \n",
       "[{'id': 9, 'name': 'Ingenious', 'count': 93}, {...  1404777600         30   \n",
       "[{'id': 9, 'name': 'Ingenious', 'count': 942}, ...  1173398400         32   \n",
       "[{'id': 9, 'name': 'Ingenious', 'count': 95}, {...  1371600000         25   \n",
       "[{'id': 9, 'name': 'Ingenious', 'count': 982}, ...  1426550400         32   \n",
       "[{'id': 9, 'name': 'Ingenious', 'count': 986}, ...  1415836800         30   \n",
       "\n",
       "                                                    num_speaker  \\\n",
       "ratings                                                           \n",
       "[{'id': 1, 'name': 'Beautiful', 'count': 100}, ...            1   \n",
       "[{'id': 1, 'name': 'Beautiful', 'count': 101}, ...            1   \n",
       "[{'id': 1, 'name': 'Beautiful', 'count': 101}, ...            1   \n",
       "[{'id': 1, 'name': 'Beautiful', 'count': 101}, ...            1   \n",
       "[{'id': 1, 'name': 'Beautiful', 'count': 1024},...            1   \n",
       "...                                                         ...   \n",
       "[{'id': 9, 'name': 'Ingenious', 'count': 93}, {...            1   \n",
       "[{'id': 9, 'name': 'Ingenious', 'count': 942}, ...            1   \n",
       "[{'id': 9, 'name': 'Ingenious', 'count': 95}, {...            1   \n",
       "[{'id': 9, 'name': 'Ingenious', 'count': 982}, ...            1   \n",
       "[{'id': 9, 'name': 'Ingenious', 'count': 986}, ...            1   \n",
       "\n",
       "                                                    published_date    views  \\\n",
       "ratings                                                                       \n",
       "[{'id': 1, 'name': 'Beautiful', 'count': 100}, ...      1175731860  1392010   \n",
       "[{'id': 1, 'name': 'Beautiful', 'count': 101}, ...      1449505018  1049263   \n",
       "[{'id': 1, 'name': 'Beautiful', 'count': 101}, ...      1467038171   803813   \n",
       "[{'id': 1, 'name': 'Beautiful', 'count': 101}, ...      1175731860  1520908   \n",
       "[{'id': 1, 'name': 'Beautiful', 'count': 1024},...      1459178550  1961502   \n",
       "...                                                            ...      ...   \n",
       "[{'id': 9, 'name': 'Ingenious', 'count': 93}, {...      1409239618  1198332   \n",
       "[{'id': 9, 'name': 'Ingenious', 'count': 942}, ...      1188280800  1575699   \n",
       "[{'id': 9, 'name': 'Ingenious', 'count': 95}, {...      1389282937  1187105   \n",
       "[{'id': 9, 'name': 'Ingenious', 'count': 982}, ...      1426695045  1738331   \n",
       "[{'id': 9, 'name': 'Ingenious', 'count': 986}, ...      1419352274  1948196   \n",
       "\n",
       "                                                    comments_per_view  \\\n",
       "ratings                                                                 \n",
       "[{'id': 1, 'name': 'Beautiful', 'count': 100}, ...           0.000077   \n",
       "[{'id': 1, 'name': 'Beautiful', 'count': 101}, ...           0.000027   \n",
       "[{'id': 1, 'name': 'Beautiful', 'count': 101}, ...           0.000030   \n",
       "[{'id': 1, 'name': 'Beautiful', 'count': 101}, ...           0.000075   \n",
       "[{'id': 1, 'name': 'Beautiful', 'count': 1024},...           0.000047   \n",
       "...                                                               ...   \n",
       "[{'id': 9, 'name': 'Ingenious', 'count': 93}, {...           0.000083   \n",
       "[{'id': 9, 'name': 'Ingenious', 'count': 942}, ...           0.000065   \n",
       "[{'id': 9, 'name': 'Ingenious', 'count': 95}, {...           0.000065   \n",
       "[{'id': 9, 'name': 'Ingenious', 'count': 982}, ...           0.000127   \n",
       "[{'id': 9, 'name': 'Ingenious', 'count': 986}, ...           0.000052   \n",
       "\n",
       "                                                    views_per_comment  \n",
       "ratings                                                                \n",
       "[{'id': 1, 'name': 'Beautiful', 'count': 100}, ...       13009.439252  \n",
       "[{'id': 1, 'name': 'Beautiful', 'count': 101}, ...       37473.678571  \n",
       "[{'id': 1, 'name': 'Beautiful', 'count': 101}, ...       33492.208333  \n",
       "[{'id': 1, 'name': 'Beautiful', 'count': 101}, ...       13341.298246  \n",
       "[{'id': 1, 'name': 'Beautiful', 'count': 1024},...       21091.419355  \n",
       "...                                                               ...  \n",
       "[{'id': 9, 'name': 'Ingenious', 'count': 93}, {...       11983.320000  \n",
       "[{'id': 9, 'name': 'Ingenious', 'count': 942}, ...       15448.029412  \n",
       "[{'id': 9, 'name': 'Ingenious', 'count': 95}, {...       15416.948052  \n",
       "[{'id': 9, 'name': 'Ingenious', 'count': 982}, ...        7865.751131  \n",
       "[{'id': 9, 'name': 'Ingenious', 'count': 986}, ...       19099.960784  \n",
       "\n",
       "[2550 rows x 9 columns]"
      ]
     },
     "execution_count": 58,
     "metadata": {},
     "output_type": "execute_result"
    }
   ],
   "source": [
    "df.groupby('ratings').sum()"
   ]
  },
  {
   "cell_type": "code",
   "execution_count": 62,
   "metadata": {},
   "outputs": [
    {
     "data": {
      "text/html": [
       "<div>\n",
       "<style scoped>\n",
       "    .dataframe tbody tr th:only-of-type {\n",
       "        vertical-align: middle;\n",
       "    }\n",
       "\n",
       "    .dataframe tbody tr th {\n",
       "        vertical-align: top;\n",
       "    }\n",
       "\n",
       "    .dataframe thead th {\n",
       "        text-align: right;\n",
       "    }\n",
       "</style>\n",
       "<table border=\"1\" class=\"dataframe\">\n",
       "  <thead>\n",
       "    <tr style=\"text-align: right;\">\n",
       "      <th></th>\n",
       "      <th>comments</th>\n",
       "      <th>description</th>\n",
       "      <th>duration</th>\n",
       "      <th>event</th>\n",
       "      <th>film_date</th>\n",
       "      <th>languages</th>\n",
       "      <th>main_speaker</th>\n",
       "      <th>name</th>\n",
       "      <th>num_speaker</th>\n",
       "      <th>published_date</th>\n",
       "      <th>ratings</th>\n",
       "      <th>related_talks</th>\n",
       "      <th>speaker_occupation</th>\n",
       "      <th>tags</th>\n",
       "      <th>title</th>\n",
       "      <th>url</th>\n",
       "      <th>views</th>\n",
       "      <th>comments_per_view</th>\n",
       "      <th>views_per_comment</th>\n",
       "      <th>film_datetime</th>\n",
       "    </tr>\n",
       "  </thead>\n",
       "  <tbody>\n",
       "    <tr>\n",
       "      <th>677</th>\n",
       "      <td>1930</td>\n",
       "      <td>Simon Sinek has a simple but powerful model fo...</td>\n",
       "      <td>1084</td>\n",
       "      <td>TEDxPuget Sound</td>\n",
       "      <td>1253145600</td>\n",
       "      <td>45</td>\n",
       "      <td>Simon Sinek</td>\n",
       "      <td>Simon Sinek: How great leaders inspire action</td>\n",
       "      <td>1</td>\n",
       "      <td>1272965460</td>\n",
       "      <td>[{'id': 21, 'name': 'Unconvincing', 'count': 9...</td>\n",
       "      <td>[{'id': 814, 'hero': 'https://pe.tedcdn.com/im...</td>\n",
       "      <td>Leadership expert</td>\n",
       "      <td>['TEDx', 'business', 'entrepreneur', 'leadersh...</td>\n",
       "      <td>How great leaders inspire action</td>\n",
       "      <td>https://www.ted.com/talks/simon_sinek_how_grea...</td>\n",
       "      <td>34309432</td>\n",
       "      <td>0.000056</td>\n",
       "      <td>17776.907772</td>\n",
       "      <td>2009-09-17</td>\n",
       "    </tr>\n",
       "    <tr>\n",
       "      <th>1346</th>\n",
       "      <td>2290</td>\n",
       "      <td>Body language affects how others see us, but i...</td>\n",
       "      <td>1262</td>\n",
       "      <td>TEDGlobal 2012</td>\n",
       "      <td>1340668800</td>\n",
       "      <td>51</td>\n",
       "      <td>Amy Cuddy</td>\n",
       "      <td>Amy Cuddy: Your body language may shape who yo...</td>\n",
       "      <td>1</td>\n",
       "      <td>1349103608</td>\n",
       "      <td>[{'id': 23, 'name': 'Jaw-dropping', 'count': 3...</td>\n",
       "      <td>[{'id': 605, 'hero': 'https://pe.tedcdn.com/im...</td>\n",
       "      <td>Social psychologist</td>\n",
       "      <td>['body language', 'brain', 'business', 'psycho...</td>\n",
       "      <td>Your body language may shape who you are</td>\n",
       "      <td>https://www.ted.com/talks/amy_cuddy_your_body_...</td>\n",
       "      <td>43155405</td>\n",
       "      <td>0.000053</td>\n",
       "      <td>18845.155022</td>\n",
       "      <td>2012-06-26</td>\n",
       "    </tr>\n",
       "    <tr>\n",
       "      <th>0</th>\n",
       "      <td>4553</td>\n",
       "      <td>Sir Ken Robinson makes an entertaining and pro...</td>\n",
       "      <td>1164</td>\n",
       "      <td>TED2006</td>\n",
       "      <td>1140825600</td>\n",
       "      <td>60</td>\n",
       "      <td>Ken Robinson</td>\n",
       "      <td>Ken Robinson: Do schools kill creativity?</td>\n",
       "      <td>1</td>\n",
       "      <td>1151367060</td>\n",
       "      <td>[{'id': 7, 'name': 'Funny', 'count': 19645}, {...</td>\n",
       "      <td>[{'id': 865, 'hero': 'https://pe.tedcdn.com/im...</td>\n",
       "      <td>Author/educator</td>\n",
       "      <td>['children', 'creativity', 'culture', 'dance',...</td>\n",
       "      <td>Do schools kill creativity?</td>\n",
       "      <td>https://www.ted.com/talks/ken_robinson_says_sc...</td>\n",
       "      <td>47227110</td>\n",
       "      <td>0.000096</td>\n",
       "      <td>10372.745443</td>\n",
       "      <td>2006-02-25</td>\n",
       "    </tr>\n",
       "  </tbody>\n",
       "</table>\n",
       "</div>"
      ],
      "text/plain": [
       "      comments                                        description  duration  \\\n",
       "677       1930  Simon Sinek has a simple but powerful model fo...      1084   \n",
       "1346      2290  Body language affects how others see us, but i...      1262   \n",
       "0         4553  Sir Ken Robinson makes an entertaining and pro...      1164   \n",
       "\n",
       "                 event   film_date  languages  main_speaker  \\\n",
       "677   TEDxPuget Sound   1253145600         45   Simon Sinek   \n",
       "1346    TEDGlobal 2012  1340668800         51     Amy Cuddy   \n",
       "0              TED2006  1140825600         60  Ken Robinson   \n",
       "\n",
       "                                                   name  num_speaker  \\\n",
       "677       Simon Sinek: How great leaders inspire action            1   \n",
       "1346  Amy Cuddy: Your body language may shape who yo...            1   \n",
       "0             Ken Robinson: Do schools kill creativity?            1   \n",
       "\n",
       "      published_date                                            ratings  \\\n",
       "677       1272965460  [{'id': 21, 'name': 'Unconvincing', 'count': 9...   \n",
       "1346      1349103608  [{'id': 23, 'name': 'Jaw-dropping', 'count': 3...   \n",
       "0         1151367060  [{'id': 7, 'name': 'Funny', 'count': 19645}, {...   \n",
       "\n",
       "                                          related_talks   speaker_occupation  \\\n",
       "677   [{'id': 814, 'hero': 'https://pe.tedcdn.com/im...    Leadership expert   \n",
       "1346  [{'id': 605, 'hero': 'https://pe.tedcdn.com/im...  Social psychologist   \n",
       "0     [{'id': 865, 'hero': 'https://pe.tedcdn.com/im...      Author/educator   \n",
       "\n",
       "                                                   tags  \\\n",
       "677   ['TEDx', 'business', 'entrepreneur', 'leadersh...   \n",
       "1346  ['body language', 'brain', 'business', 'psycho...   \n",
       "0     ['children', 'creativity', 'culture', 'dance',...   \n",
       "\n",
       "                                         title  \\\n",
       "677           How great leaders inspire action   \n",
       "1346  Your body language may shape who you are   \n",
       "0                  Do schools kill creativity?   \n",
       "\n",
       "                                                    url     views  \\\n",
       "677   https://www.ted.com/talks/simon_sinek_how_grea...  34309432   \n",
       "1346  https://www.ted.com/talks/amy_cuddy_your_body_...  43155405   \n",
       "0     https://www.ted.com/talks/ken_robinson_says_sc...  47227110   \n",
       "\n",
       "      comments_per_view  views_per_comment film_datetime  \n",
       "677            0.000056       17776.907772    2009-09-17  \n",
       "1346           0.000053       18845.155022    2012-06-26  \n",
       "0              0.000096       10372.745443    2006-02-25  "
      ]
     },
     "execution_count": 62,
     "metadata": {},
     "output_type": "execute_result"
    }
   ],
   "source": [
    "df.sort_values('views').tail(3)"
   ]
  },
  {
   "cell_type": "code",
   "execution_count": 67,
   "metadata": {},
   "outputs": [
    {
     "data": {
      "text/plain": [
       "TED2014    84\n",
       "TED2009    83\n",
       "TED2013    77\n",
       "TED2016    77\n",
       "TED2015    75\n",
       "Name: event, dtype: int64"
      ]
     },
     "execution_count": 67,
     "metadata": {},
     "output_type": "execute_result"
    }
   ],
   "source": [
    "df.event.value_counts().head()"
   ]
  },
  {
   "cell_type": "code",
   "execution_count": 72,
   "metadata": {},
   "outputs": [
    {
     "data": {
      "text/html": [
       "<div>\n",
       "<style scoped>\n",
       "    .dataframe tbody tr th:only-of-type {\n",
       "        vertical-align: middle;\n",
       "    }\n",
       "\n",
       "    .dataframe tbody tr th {\n",
       "        vertical-align: top;\n",
       "    }\n",
       "\n",
       "    .dataframe thead th {\n",
       "        text-align: right;\n",
       "    }\n",
       "</style>\n",
       "<table border=\"1\" class=\"dataframe\">\n",
       "  <thead>\n",
       "    <tr style=\"text-align: right;\">\n",
       "      <th></th>\n",
       "      <th>count</th>\n",
       "      <th>mean</th>\n",
       "      <th>sum</th>\n",
       "    </tr>\n",
       "    <tr>\n",
       "      <th>event</th>\n",
       "      <th></th>\n",
       "      <th></th>\n",
       "      <th></th>\n",
       "    </tr>\n",
       "  </thead>\n",
       "  <tbody>\n",
       "    <tr>\n",
       "      <th>TED2006</th>\n",
       "      <td>45</td>\n",
       "      <td>3.274345e+06</td>\n",
       "      <td>147345533</td>\n",
       "    </tr>\n",
       "    <tr>\n",
       "      <th>TED2015</th>\n",
       "      <td>75</td>\n",
       "      <td>2.011017e+06</td>\n",
       "      <td>150826305</td>\n",
       "    </tr>\n",
       "    <tr>\n",
       "      <th>TEDGlobal 2013</th>\n",
       "      <td>66</td>\n",
       "      <td>2.584163e+06</td>\n",
       "      <td>170554736</td>\n",
       "    </tr>\n",
       "    <tr>\n",
       "      <th>TED2014</th>\n",
       "      <td>84</td>\n",
       "      <td>2.072874e+06</td>\n",
       "      <td>174121423</td>\n",
       "    </tr>\n",
       "    <tr>\n",
       "      <th>TED2013</th>\n",
       "      <td>77</td>\n",
       "      <td>2.302700e+06</td>\n",
       "      <td>177307937</td>\n",
       "    </tr>\n",
       "  </tbody>\n",
       "</table>\n",
       "</div>"
      ],
      "text/plain": [
       "                count          mean        sum\n",
       "event                                         \n",
       "TED2006            45  3.274345e+06  147345533\n",
       "TED2015            75  2.011017e+06  150826305\n",
       "TEDGlobal 2013     66  2.584163e+06  170554736\n",
       "TED2014            84  2.072874e+06  174121423\n",
       "TED2013            77  2.302700e+06  177307937"
      ]
     },
     "execution_count": 72,
     "metadata": {},
     "output_type": "execute_result"
    }
   ],
   "source": [
    "# For each category in \"event\", compute the count, mean, sum (aggregation functions) of the \"views\", then sort by sum\n",
    "df.groupby('event').views.agg(['count','mean','sum']).sort_values('sum').tail()"
   ]
  },
  {
   "cell_type": "markdown",
   "metadata": {},
   "source": [
    "## 5. Unpack the ratings data"
   ]
  },
  {
   "cell_type": "code",
   "execution_count": 73,
   "metadata": {},
   "outputs": [
    {
     "data": {
      "text/plain": [
       "0    [{'id': 7, 'name': 'Funny', 'count': 19645}, {...\n",
       "1    [{'id': 7, 'name': 'Funny', 'count': 544}, {'i...\n",
       "2    [{'id': 7, 'name': 'Funny', 'count': 964}, {'i...\n",
       "3    [{'id': 3, 'name': 'Courageous', 'count': 760}...\n",
       "4    [{'id': 9, 'name': 'Ingenious', 'count': 3202}...\n",
       "Name: ratings, dtype: object"
      ]
     },
     "execution_count": 73,
     "metadata": {},
     "output_type": "execute_result"
    }
   ],
   "source": [
    "df.ratings.head()"
   ]
  },
  {
   "cell_type": "code",
   "execution_count": 76,
   "metadata": {},
   "outputs": [
    {
     "data": {
      "text/plain": [
       "\"[{'id': 7, 'name': 'Funny', 'count': 19645}, {'id': 1, 'name': 'Beautiful', 'count': 4573}, {'id': 9, 'name': 'Ingenious', 'count': 6073}, {'id': 3, 'name': 'Courageous', 'count': 3253}, {'id': 11, 'name': 'Longwinded', 'count': 387}, {'id': 2, 'name': 'Confusing', 'count': 242}, {'id': 8, 'name': 'Informative', 'count': 7346}, {'id': 22, 'name': 'Fascinating', 'count': 10581}, {'id': 21, 'name': 'Unconvincing', 'count': 300}, {'id': 24, 'name': 'Persuasive', 'count': 10704}, {'id': 23, 'name': 'Jaw-dropping', 'count': 4439}, {'id': 25, 'name': 'OK', 'count': 1174}, {'id': 26, 'name': 'Obnoxious', 'count': 209}, {'id': 10, 'name': 'Inspiring', 'count': 24924}]\""
      ]
     },
     "execution_count": 76,
     "metadata": {},
     "output_type": "execute_result"
    }
   ],
   "source": [
    "df.loc[0,'ratings']"
   ]
  },
  {
   "cell_type": "code",
   "execution_count": 77,
   "metadata": {},
   "outputs": [],
   "source": [
    "import ast"
   ]
  },
  {
   "cell_type": "code",
   "execution_count": 78,
   "metadata": {},
   "outputs": [
    {
     "data": {
      "text/plain": [
       "[{'id': 7, 'name': 'Funny', 'count': 19645},\n",
       " {'id': 1, 'name': 'Beautiful', 'count': 4573},\n",
       " {'id': 9, 'name': 'Ingenious', 'count': 6073},\n",
       " {'id': 3, 'name': 'Courageous', 'count': 3253},\n",
       " {'id': 11, 'name': 'Longwinded', 'count': 387},\n",
       " {'id': 2, 'name': 'Confusing', 'count': 242},\n",
       " {'id': 8, 'name': 'Informative', 'count': 7346},\n",
       " {'id': 22, 'name': 'Fascinating', 'count': 10581},\n",
       " {'id': 21, 'name': 'Unconvincing', 'count': 300},\n",
       " {'id': 24, 'name': 'Persuasive', 'count': 10704},\n",
       " {'id': 23, 'name': 'Jaw-dropping', 'count': 4439},\n",
       " {'id': 25, 'name': 'OK', 'count': 1174},\n",
       " {'id': 26, 'name': 'Obnoxious', 'count': 209},\n",
       " {'id': 10, 'name': 'Inspiring', 'count': 24924}]"
      ]
     },
     "execution_count": 78,
     "metadata": {},
     "output_type": "execute_result"
    }
   ],
   "source": [
    "# Convert the stringified dictionary list, to an actual list of dictionaries\n",
    "ast.literal_eval(df.ratings[0])"
   ]
  },
  {
   "cell_type": "code",
   "execution_count": 79,
   "metadata": {},
   "outputs": [],
   "source": [
    "def str_to_list(ratings_str):\n",
    "    return ast.literal_eval(ratings_str)"
   ]
  },
  {
   "cell_type": "code",
   "execution_count": 80,
   "metadata": {},
   "outputs": [
    {
     "data": {
      "text/plain": [
       "0    [{'id': 7, 'name': 'Funny', 'count': 19645}, {...\n",
       "1    [{'id': 7, 'name': 'Funny', 'count': 544}, {'i...\n",
       "2    [{'id': 7, 'name': 'Funny', 'count': 964}, {'i...\n",
       "3    [{'id': 3, 'name': 'Courageous', 'count': 760}...\n",
       "4    [{'id': 9, 'name': 'Ingenious', 'count': 3202}...\n",
       "Name: ratings, dtype: object"
      ]
     },
     "execution_count": 80,
     "metadata": {},
     "output_type": "execute_result"
    }
   ],
   "source": [
    "df.ratings.apply(str_to_list).head()"
   ]
  },
  {
   "cell_type": "code",
   "execution_count": 81,
   "metadata": {},
   "outputs": [],
   "source": [
    "# Create a new feature which contains lists of dictionaries\n",
    "df['ratings_list'] = df.ratings.apply(lambda x: ast.literal_eval(x))"
   ]
  },
  {
   "cell_type": "code",
   "execution_count": 82,
   "metadata": {},
   "outputs": [
    {
     "data": {
      "text/plain": [
       "[{'id': 7, 'name': 'Funny', 'count': 19645},\n",
       " {'id': 1, 'name': 'Beautiful', 'count': 4573},\n",
       " {'id': 9, 'name': 'Ingenious', 'count': 6073},\n",
       " {'id': 3, 'name': 'Courageous', 'count': 3253},\n",
       " {'id': 11, 'name': 'Longwinded', 'count': 387},\n",
       " {'id': 2, 'name': 'Confusing', 'count': 242},\n",
       " {'id': 8, 'name': 'Informative', 'count': 7346},\n",
       " {'id': 22, 'name': 'Fascinating', 'count': 10581},\n",
       " {'id': 21, 'name': 'Unconvincing', 'count': 300},\n",
       " {'id': 24, 'name': 'Persuasive', 'count': 10704},\n",
       " {'id': 23, 'name': 'Jaw-dropping', 'count': 4439},\n",
       " {'id': 25, 'name': 'OK', 'count': 1174},\n",
       " {'id': 26, 'name': 'Obnoxious', 'count': 209},\n",
       " {'id': 10, 'name': 'Inspiring', 'count': 24924}]"
      ]
     },
     "execution_count": 82,
     "metadata": {},
     "output_type": "execute_result"
    }
   ],
   "source": [
    "df.ratings_list[0]"
   ]
  },
  {
   "cell_type": "markdown",
   "metadata": {},
   "source": [
    "## 6. Count the total number of ratings received by each talk"
   ]
  },
  {
   "cell_type": "code",
   "execution_count": 85,
   "metadata": {},
   "outputs": [
    {
     "data": {
      "text/plain": [
       "[{'id': 7, 'name': 'Funny', 'count': 19645},\n",
       " {'id': 1, 'name': 'Beautiful', 'count': 4573}]"
      ]
     },
     "execution_count": 85,
     "metadata": {},
     "output_type": "execute_result"
    }
   ],
   "source": [
    "df.ratings_list[0][0:2]"
   ]
  },
  {
   "cell_type": "code",
   "execution_count": 96,
   "metadata": {},
   "outputs": [],
   "source": [
    "def get_num_ratings(list_of_dicts):\n",
    "    num = 0\n",
    "    for d in list_of_dicts:\n",
    "        num += d['count']\n",
    "    return num"
   ]
  },
  {
   "cell_type": "code",
   "execution_count": 97,
   "metadata": {},
   "outputs": [
    {
     "data": {
      "text/plain": [
       "93850"
      ]
     },
     "execution_count": 97,
     "metadata": {},
     "output_type": "execute_result"
    }
   ],
   "source": [
    "get_num_ratings(df.ratings_list[0])"
   ]
  },
  {
   "cell_type": "code",
   "execution_count": 99,
   "metadata": {},
   "outputs": [],
   "source": [
    "df['num_ratings'] = df.ratings_list.apply(get_num_ratings)"
   ]
  },
  {
   "cell_type": "code",
   "execution_count": 100,
   "metadata": {},
   "outputs": [
    {
     "data": {
      "text/plain": [
       "count     2550.000000\n",
       "mean      2436.408235\n",
       "std       4226.795631\n",
       "min         68.000000\n",
       "25%        870.750000\n",
       "50%       1452.500000\n",
       "75%       2506.750000\n",
       "max      93850.000000\n",
       "Name: ratings_list, dtype: float64"
      ]
     },
     "execution_count": 100,
     "metadata": {},
     "output_type": "execute_result"
    }
   ],
   "source": [
    "df.num_ratings.describe()"
   ]
  },
  {
   "cell_type": "markdown",
   "metadata": {},
   "source": [
    "## 7. Which occupations deliver the funniest TED talks on average?"
   ]
  },
  {
   "cell_type": "code",
   "execution_count": 102,
   "metadata": {},
   "outputs": [
    {
     "data": {
      "text/plain": [
       "[{'id': 7, 'name': 'Funny', 'count': 19645},\n",
       " {'id': 1, 'name': 'Beautiful', 'count': 4573},\n",
       " {'id': 9, 'name': 'Ingenious', 'count': 6073},\n",
       " {'id': 3, 'name': 'Courageous', 'count': 3253},\n",
       " {'id': 11, 'name': 'Longwinded', 'count': 387},\n",
       " {'id': 2, 'name': 'Confusing', 'count': 242},\n",
       " {'id': 8, 'name': 'Informative', 'count': 7346},\n",
       " {'id': 22, 'name': 'Fascinating', 'count': 10581},\n",
       " {'id': 21, 'name': 'Unconvincing', 'count': 300},\n",
       " {'id': 24, 'name': 'Persuasive', 'count': 10704},\n",
       " {'id': 23, 'name': 'Jaw-dropping', 'count': 4439},\n",
       " {'id': 25, 'name': 'OK', 'count': 1174},\n",
       " {'id': 26, 'name': 'Obnoxious', 'count': 209},\n",
       " {'id': 10, 'name': 'Inspiring', 'count': 24924}]"
      ]
     },
     "execution_count": 102,
     "metadata": {},
     "output_type": "execute_result"
    }
   ],
   "source": [
    "df.ratings_list[0]"
   ]
  },
  {
   "cell_type": "code",
   "execution_count": 103,
   "metadata": {},
   "outputs": [
    {
     "data": {
      "text/plain": [
       "True    2550\n",
       "Name: ratings, dtype: int64"
      ]
     },
     "execution_count": 103,
     "metadata": {},
     "output_type": "execute_result"
    }
   ],
   "source": [
    "df.ratings.str.contains('Funny').value_counts()"
   ]
  },
  {
   "cell_type": "markdown",
   "metadata": {},
   "source": [
    "Looks like 'Funny' is in all of the ratings."
   ]
  },
  {
   "cell_type": "code",
   "execution_count": 104,
   "metadata": {},
   "outputs": [],
   "source": [
    "def get_funny_ratings(list_of_dicts):\n",
    "    for d in list_of_dicts:\n",
    "        if d['name'] == 'Funny':\n",
    "            return d['count']"
   ]
  },
  {
   "cell_type": "code",
   "execution_count": 106,
   "metadata": {},
   "outputs": [],
   "source": [
    "df['funny_ratings'] = df.ratings_list.apply(get_funny_ratings)"
   ]
  },
  {
   "cell_type": "code",
   "execution_count": 107,
   "metadata": {},
   "outputs": [
    {
     "data": {
      "text/plain": [
       "0       19645\n",
       "1         544\n",
       "2         964\n",
       "3          59\n",
       "4        1390\n",
       "        ...  \n",
       "2545        1\n",
       "2546       20\n",
       "2547        1\n",
       "2548       63\n",
       "2549        0\n",
       "Name: funny_ratings, Length: 2550, dtype: int64"
      ]
     },
     "execution_count": 107,
     "metadata": {},
     "output_type": "execute_result"
    }
   ],
   "source": [
    "df.funny_ratings"
   ]
  },
  {
   "cell_type": "code",
   "execution_count": 111,
   "metadata": {},
   "outputs": [],
   "source": [
    "df['funny_rate'] = df.funny_ratings / df.num_ratings"
   ]
  },
  {
   "cell_type": "code",
   "execution_count": 112,
   "metadata": {},
   "outputs": [
    {
     "data": {
      "text/plain": [
       "1849                       Science humorist\n",
       "337                                Comedian\n",
       "124     Performance poet, multimedia artist\n",
       "315                                  Expert\n",
       "1168             Social energy entrepreneur\n",
       "1468                          Ornithologist\n",
       "595                  Comedian, voice artist\n",
       "1534                         Cartoon editor\n",
       "97                                 Satirist\n",
       "2297                          Actor, writer\n",
       "568                                Comedian\n",
       "675                          Data scientist\n",
       "21                     Humorist, web artist\n",
       "194                                Jugglers\n",
       "2273                    Comedian and writer\n",
       "2114                    Comedian and writer\n",
       "173                                Investor\n",
       "747                                Comedian\n",
       "1398                               Comedian\n",
       "685             Actor, comedian, playwright\n",
       "Name: speaker_occupation, dtype: object"
      ]
     },
     "execution_count": 112,
     "metadata": {},
     "output_type": "execute_result"
    }
   ],
   "source": [
    "df.sort_values('funny_rate').speaker_occupation.tail(20)"
   ]
  },
  {
   "cell_type": "code",
   "execution_count": 115,
   "metadata": {},
   "outputs": [
    {
     "data": {
      "text/plain": [
       "speaker_occupation\n",
       "Comedian                       0.512457\n",
       "Actor, writer                  0.515152\n",
       "Actor, comedian, playwright    0.558107\n",
       "Jugglers                       0.566828\n",
       "Comedian and writer            0.602085\n",
       "Name: funny_rate, dtype: float64"
      ]
     },
     "execution_count": 115,
     "metadata": {},
     "output_type": "execute_result"
    }
   ],
   "source": [
    "df.groupby('speaker_occupation').funny_rate.mean().sort_values().tail()"
   ]
  },
  {
   "cell_type": "code",
   "execution_count": 117,
   "metadata": {},
   "outputs": [
    {
     "data": {
      "text/plain": [
       "count       2544\n",
       "unique      1458\n",
       "top       Writer\n",
       "freq          45\n",
       "Name: speaker_occupation, dtype: object"
      ]
     },
     "execution_count": 117,
     "metadata": {},
     "output_type": "execute_result"
    }
   ],
   "source": [
    "df.speaker_occupation.describe()"
   ]
  },
  {
   "cell_type": "code",
   "execution_count": null,
   "metadata": {},
   "outputs": [],
   "source": []
  }
 ],
 "metadata": {
  "kernelspec": {
   "display_name": "Python 3",
   "language": "python",
   "name": "python3"
  },
  "language_info": {
   "codemirror_mode": {
    "name": "ipython",
    "version": 3
   },
   "file_extension": ".py",
   "mimetype": "text/x-python",
   "name": "python",
   "nbconvert_exporter": "python",
   "pygments_lexer": "ipython3",
   "version": "3.8.3"
  }
 },
 "nbformat": 4,
 "nbformat_minor": 4
}
